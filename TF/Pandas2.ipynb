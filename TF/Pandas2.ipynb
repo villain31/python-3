{
  "nbformat": 4,
  "nbformat_minor": 0,
  "metadata": {
    "colab": {
      "name": "Pandas2.ipynb",
      "version": "0.3.2",
      "provenance": []
    },
    "kernelspec": {
      "name": "python3",
      "display_name": "Python 3"
    },
    "accelerator": "GPU"
  },
  "cells": [
    {
      "metadata": {
        "id": "hP59w-P01Xns",
        "colab_type": "code",
        "colab": {
          "base_uri": "https://localhost:8080/",
          "height": 34
        },
        "outputId": "9ae086cd-d535-494f-ffbf-31096d6ddef2"
      },
      "cell_type": "code",
      "source": [
        "import pandas as pd\n",
        "pd.__version__"
      ],
      "execution_count": 1,
      "outputs": [
        {
          "output_type": "execute_result",
          "data": {
            "text/plain": [
              "'0.23.4'"
            ]
          },
          "metadata": {
            "tags": []
          },
          "execution_count": 1
        }
      ]
    },
    {
      "metadata": {
        "id": "FgFuaxeh15Op",
        "colab_type": "text"
      },
      "cell_type": "markdown",
      "source": [
        "##Pandas\n",
        "###Series and Dataframe"
      ]
    },
    {
      "metadata": {
        "id": "SlgQvkqP2YrW",
        "colab_type": "code",
        "colab": {}
      },
      "cell_type": "code",
      "source": [
        "stark_family_name = pd.Series(['Eddard \"Ned\" Stark', 'Catelyn Stark', 'Benjen Stark', 'Jon Snow', 'Sansa Stark', 'Arya Stark', 'Robb Stark', 'Bran Stark', 'Rickon Stark'])\n",
        "secret_code = pd.Series([950941397, 330750747, 321407126, 424492778, 883054402, 113808128, 969523324, 156037124, 996311537])"
      ],
      "execution_count": 0,
      "outputs": []
    },
    {
      "metadata": {
        "id": "SlWcvcJcWOMW",
        "colab_type": "code",
        "colab": {
          "base_uri": "https://localhost:8080/",
          "height": 187
        },
        "outputId": "a52a2bcc-19df-44a0-d9be-9cd7e143540b"
      },
      "cell_type": "code",
      "source": [
        "secret_code / 1000000"
      ],
      "execution_count": 3,
      "outputs": [
        {
          "output_type": "execute_result",
          "data": {
            "text/plain": [
              "0    950.941397\n",
              "1    330.750747\n",
              "2    321.407126\n",
              "3    424.492778\n",
              "4    883.054402\n",
              "5    113.808128\n",
              "6    969.523324\n",
              "7    156.037124\n",
              "8    996.311537\n",
              "dtype: float64"
            ]
          },
          "metadata": {
            "tags": []
          },
          "execution_count": 3
        }
      ]
    },
    {
      "metadata": {
        "id": "1OFu8LZvWVoW",
        "colab_type": "code",
        "colab": {
          "base_uri": "https://localhost:8080/",
          "height": 187
        },
        "outputId": "cfe44019-6907-4786-9c0e-74a4e976845b"
      },
      "cell_type": "code",
      "source": [
        "import numpy as np\n",
        "np.log(secret_code)"
      ],
      "execution_count": 4,
      "outputs": [
        {
          "output_type": "execute_result",
          "data": {
            "text/plain": [
              "0    20.672963\n",
              "1    19.616876\n",
              "2    19.588219\n",
              "3    19.866406\n",
              "4    20.598897\n",
              "5    18.550025\n",
              "6    20.692315\n",
              "7    18.865605\n",
              "8    20.719571\n",
              "dtype: float64"
            ]
          },
          "metadata": {
            "tags": []
          },
          "execution_count": 4
        }
      ]
    },
    {
      "metadata": {
        "id": "goCOyQOVWiyV",
        "colab_type": "code",
        "colab": {
          "base_uri": "https://localhost:8080/",
          "height": 187
        },
        "outputId": "3cf9cf08-ad4c-4611-f0d8-b8d0adb9ea1d"
      },
      "cell_type": "code",
      "source": [
        "secret_code.apply(lambda val: val > 500000000)"
      ],
      "execution_count": 5,
      "outputs": [
        {
          "output_type": "execute_result",
          "data": {
            "text/plain": [
              "0     True\n",
              "1    False\n",
              "2    False\n",
              "3    False\n",
              "4     True\n",
              "5    False\n",
              "6     True\n",
              "7    False\n",
              "8     True\n",
              "dtype: bool"
            ]
          },
          "metadata": {
            "tags": []
          },
          "execution_count": 5
        }
      ]
    },
    {
      "metadata": {
        "id": "9QTCS6Zu6KCw",
        "colab_type": "code",
        "colab": {}
      },
      "cell_type": "code",
      "source": [
        "stark_family = pd.DataFrame({'Stark\\'s Family Member' : stark_family_name, 'Secret Code' : secret_code})"
      ],
      "execution_count": 0,
      "outputs": []
    },
    {
      "metadata": {
        "id": "vp8u-unh-a3o",
        "colab_type": "code",
        "colab": {
          "base_uri": "https://localhost:8080/",
          "height": 204
        },
        "outputId": "48162e11-6a18-4ab1-c44a-85ad33e136ef"
      },
      "cell_type": "code",
      "source": [
        "print(type(stark_family['Stark\\'s Family Member']))\n",
        "stark_family['Stark\\'s Family Member']"
      ],
      "execution_count": 7,
      "outputs": [
        {
          "output_type": "stream",
          "text": [
            "<class 'pandas.core.series.Series'>\n"
          ],
          "name": "stdout"
        },
        {
          "output_type": "execute_result",
          "data": {
            "text/plain": [
              "0    Eddard \"Ned\" Stark\n",
              "1         Catelyn Stark\n",
              "2          Benjen Stark\n",
              "3              Jon Snow\n",
              "4           Sansa Stark\n",
              "5            Arya Stark\n",
              "6            Robb Stark\n",
              "7            Bran Stark\n",
              "8          Rickon Stark\n",
              "Name: Stark's Family Member, dtype: object"
            ]
          },
          "metadata": {
            "tags": []
          },
          "execution_count": 7
        }
      ]
    },
    {
      "metadata": {
        "id": "s3ea4H5jVFn5",
        "colab_type": "code",
        "colab": {
          "base_uri": "https://localhost:8080/",
          "height": 51
        },
        "outputId": "a6340b47-ba32-46bf-925f-0b3d55f83999"
      },
      "cell_type": "code",
      "source": [
        "print(type(stark_family['Stark\\'s Family Member'][1]))\n",
        "stark_family['Stark\\'s Family Member'][1]"
      ],
      "execution_count": 8,
      "outputs": [
        {
          "output_type": "stream",
          "text": [
            "<class 'str'>\n"
          ],
          "name": "stdout"
        },
        {
          "output_type": "execute_result",
          "data": {
            "text/plain": [
              "'Catelyn Stark'"
            ]
          },
          "metadata": {
            "tags": []
          },
          "execution_count": 8
        }
      ]
    },
    {
      "metadata": {
        "id": "F1bY2qDvVikP",
        "colab_type": "code",
        "colab": {
          "base_uri": "https://localhost:8080/",
          "height": 128
        },
        "outputId": "a80283ca-3f41-48ee-9725-612d8a5d1072"
      },
      "cell_type": "code",
      "source": [
        "print(type(stark_family[0:2]))\n",
        "stark_family[0:2]"
      ],
      "execution_count": 9,
      "outputs": [
        {
          "output_type": "stream",
          "text": [
            "<class 'pandas.core.frame.DataFrame'>\n"
          ],
          "name": "stdout"
        },
        {
          "output_type": "execute_result",
          "data": {
            "text/html": [
              "<div>\n",
              "<style scoped>\n",
              "    .dataframe tbody tr th:only-of-type {\n",
              "        vertical-align: middle;\n",
              "    }\n",
              "\n",
              "    .dataframe tbody tr th {\n",
              "        vertical-align: top;\n",
              "    }\n",
              "\n",
              "    .dataframe thead th {\n",
              "        text-align: right;\n",
              "    }\n",
              "</style>\n",
              "<table border=\"1\" class=\"dataframe\">\n",
              "  <thead>\n",
              "    <tr style=\"text-align: right;\">\n",
              "      <th></th>\n",
              "      <th>Stark's Family Member</th>\n",
              "      <th>Secret Code</th>\n",
              "    </tr>\n",
              "  </thead>\n",
              "  <tbody>\n",
              "    <tr>\n",
              "      <th>0</th>\n",
              "      <td>Eddard \"Ned\" Stark</td>\n",
              "      <td>950941397</td>\n",
              "    </tr>\n",
              "    <tr>\n",
              "      <th>1</th>\n",
              "      <td>Catelyn Stark</td>\n",
              "      <td>330750747</td>\n",
              "    </tr>\n",
              "  </tbody>\n",
              "</table>\n",
              "</div>"
            ],
            "text/plain": [
              "  Stark's Family Member  Secret Code\n",
              "0    Eddard \"Ned\" Stark    950941397\n",
              "1         Catelyn Stark    330750747"
            ]
          },
          "metadata": {
            "tags": []
          },
          "execution_count": 9
        }
      ]
    },
    {
      "metadata": {
        "id": "IUfYFJTDCCnz",
        "colab_type": "code",
        "colab": {
          "base_uri": "https://localhost:8080/",
          "height": 328
        },
        "outputId": "1ce2259f-c6b5-4c48-9e63-482c9eeaf2a7"
      },
      "cell_type": "code",
      "source": [
        "stark_family['Gender'] = pd.Series(['M', 'F', 'M', 'M', 'F', 'F', 'M', 'M', 'M'])\n",
        "stark_family"
      ],
      "execution_count": 10,
      "outputs": [
        {
          "output_type": "execute_result",
          "data": {
            "text/html": [
              "<div>\n",
              "<style scoped>\n",
              "    .dataframe tbody tr th:only-of-type {\n",
              "        vertical-align: middle;\n",
              "    }\n",
              "\n",
              "    .dataframe tbody tr th {\n",
              "        vertical-align: top;\n",
              "    }\n",
              "\n",
              "    .dataframe thead th {\n",
              "        text-align: right;\n",
              "    }\n",
              "</style>\n",
              "<table border=\"1\" class=\"dataframe\">\n",
              "  <thead>\n",
              "    <tr style=\"text-align: right;\">\n",
              "      <th></th>\n",
              "      <th>Stark's Family Member</th>\n",
              "      <th>Secret Code</th>\n",
              "      <th>Gender</th>\n",
              "    </tr>\n",
              "  </thead>\n",
              "  <tbody>\n",
              "    <tr>\n",
              "      <th>0</th>\n",
              "      <td>Eddard \"Ned\" Stark</td>\n",
              "      <td>950941397</td>\n",
              "      <td>M</td>\n",
              "    </tr>\n",
              "    <tr>\n",
              "      <th>1</th>\n",
              "      <td>Catelyn Stark</td>\n",
              "      <td>330750747</td>\n",
              "      <td>F</td>\n",
              "    </tr>\n",
              "    <tr>\n",
              "      <th>2</th>\n",
              "      <td>Benjen Stark</td>\n",
              "      <td>321407126</td>\n",
              "      <td>M</td>\n",
              "    </tr>\n",
              "    <tr>\n",
              "      <th>3</th>\n",
              "      <td>Jon Snow</td>\n",
              "      <td>424492778</td>\n",
              "      <td>M</td>\n",
              "    </tr>\n",
              "    <tr>\n",
              "      <th>4</th>\n",
              "      <td>Sansa Stark</td>\n",
              "      <td>883054402</td>\n",
              "      <td>F</td>\n",
              "    </tr>\n",
              "    <tr>\n",
              "      <th>5</th>\n",
              "      <td>Arya Stark</td>\n",
              "      <td>113808128</td>\n",
              "      <td>F</td>\n",
              "    </tr>\n",
              "    <tr>\n",
              "      <th>6</th>\n",
              "      <td>Robb Stark</td>\n",
              "      <td>969523324</td>\n",
              "      <td>M</td>\n",
              "    </tr>\n",
              "    <tr>\n",
              "      <th>7</th>\n",
              "      <td>Bran Stark</td>\n",
              "      <td>156037124</td>\n",
              "      <td>M</td>\n",
              "    </tr>\n",
              "    <tr>\n",
              "      <th>8</th>\n",
              "      <td>Rickon Stark</td>\n",
              "      <td>996311537</td>\n",
              "      <td>M</td>\n",
              "    </tr>\n",
              "  </tbody>\n",
              "</table>\n",
              "</div>"
            ],
            "text/plain": [
              "  Stark's Family Member  Secret Code Gender\n",
              "0    Eddard \"Ned\" Stark    950941397      M\n",
              "1         Catelyn Stark    330750747      F\n",
              "2          Benjen Stark    321407126      M\n",
              "3              Jon Snow    424492778      M\n",
              "4           Sansa Stark    883054402      F\n",
              "5            Arya Stark    113808128      F\n",
              "6            Robb Stark    969523324      M\n",
              "7            Bran Stark    156037124      M\n",
              "8          Rickon Stark    996311537      M"
            ]
          },
          "metadata": {
            "tags": []
          },
          "execution_count": 10
        }
      ]
    },
    {
      "metadata": {
        "id": "hGbKD8qkI87E",
        "colab_type": "code",
        "colab": {
          "base_uri": "https://localhost:8080/",
          "height": 187
        },
        "outputId": "9f138856-758b-447a-d2bc-f769b3c70a89"
      },
      "cell_type": "code",
      "source": [
        "stark_family['Gender'].apply(lambda val: val == 'M')"
      ],
      "execution_count": 11,
      "outputs": [
        {
          "output_type": "execute_result",
          "data": {
            "text/plain": [
              "0     True\n",
              "1    False\n",
              "2     True\n",
              "3     True\n",
              "4    False\n",
              "5    False\n",
              "6     True\n",
              "7     True\n",
              "8     True\n",
              "Name: Gender, dtype: bool"
            ]
          },
          "metadata": {
            "tags": []
          },
          "execution_count": 11
        }
      ]
    },
    {
      "metadata": {
        "id": "jqvRozVq6q7y",
        "colab_type": "code",
        "colab": {
          "base_uri": "https://localhost:8080/",
          "height": 317
        },
        "outputId": "e717fb20-aac7-415d-fa9a-0b000e3feffc"
      },
      "cell_type": "code",
      "source": [
        "got_battles_df = pd.read_csv('https://raw.githubusercontent.com/villain31/python3/master/CSV/5kings_battles_v1.csv', sep=',')\n",
        "got_battles_df.describe()"
      ],
      "execution_count": 12,
      "outputs": [
        {
          "output_type": "execute_result",
          "data": {
            "text/html": [
              "<div>\n",
              "<style scoped>\n",
              "    .dataframe tbody tr th:only-of-type {\n",
              "        vertical-align: middle;\n",
              "    }\n",
              "\n",
              "    .dataframe tbody tr th {\n",
              "        vertical-align: top;\n",
              "    }\n",
              "\n",
              "    .dataframe thead th {\n",
              "        text-align: right;\n",
              "    }\n",
              "</style>\n",
              "<table border=\"1\" class=\"dataframe\">\n",
              "  <thead>\n",
              "    <tr style=\"text-align: right;\">\n",
              "      <th></th>\n",
              "      <th>year</th>\n",
              "      <th>battle_number</th>\n",
              "      <th>defender_3</th>\n",
              "      <th>defender_4</th>\n",
              "      <th>major_death</th>\n",
              "      <th>major_capture</th>\n",
              "      <th>attacker_size</th>\n",
              "      <th>defender_size</th>\n",
              "      <th>summer</th>\n",
              "    </tr>\n",
              "  </thead>\n",
              "  <tbody>\n",
              "    <tr>\n",
              "      <th>count</th>\n",
              "      <td>38.000000</td>\n",
              "      <td>38.000000</td>\n",
              "      <td>0.0</td>\n",
              "      <td>0.0</td>\n",
              "      <td>37.000000</td>\n",
              "      <td>37.000000</td>\n",
              "      <td>24.000000</td>\n",
              "      <td>19.000000</td>\n",
              "      <td>37.000000</td>\n",
              "    </tr>\n",
              "    <tr>\n",
              "      <th>mean</th>\n",
              "      <td>299.105263</td>\n",
              "      <td>19.500000</td>\n",
              "      <td>NaN</td>\n",
              "      <td>NaN</td>\n",
              "      <td>0.351351</td>\n",
              "      <td>0.297297</td>\n",
              "      <td>9942.541667</td>\n",
              "      <td>6428.157895</td>\n",
              "      <td>0.702703</td>\n",
              "    </tr>\n",
              "    <tr>\n",
              "      <th>std</th>\n",
              "      <td>0.689280</td>\n",
              "      <td>11.113055</td>\n",
              "      <td>NaN</td>\n",
              "      <td>NaN</td>\n",
              "      <td>0.483978</td>\n",
              "      <td>0.463373</td>\n",
              "      <td>20283.092065</td>\n",
              "      <td>6225.182106</td>\n",
              "      <td>0.463373</td>\n",
              "    </tr>\n",
              "    <tr>\n",
              "      <th>min</th>\n",
              "      <td>298.000000</td>\n",
              "      <td>1.000000</td>\n",
              "      <td>NaN</td>\n",
              "      <td>NaN</td>\n",
              "      <td>0.000000</td>\n",
              "      <td>0.000000</td>\n",
              "      <td>20.000000</td>\n",
              "      <td>100.000000</td>\n",
              "      <td>0.000000</td>\n",
              "    </tr>\n",
              "    <tr>\n",
              "      <th>25%</th>\n",
              "      <td>299.000000</td>\n",
              "      <td>10.250000</td>\n",
              "      <td>NaN</td>\n",
              "      <td>NaN</td>\n",
              "      <td>0.000000</td>\n",
              "      <td>0.000000</td>\n",
              "      <td>1375.000000</td>\n",
              "      <td>1070.000000</td>\n",
              "      <td>0.000000</td>\n",
              "    </tr>\n",
              "    <tr>\n",
              "      <th>50%</th>\n",
              "      <td>299.000000</td>\n",
              "      <td>19.500000</td>\n",
              "      <td>NaN</td>\n",
              "      <td>NaN</td>\n",
              "      <td>0.000000</td>\n",
              "      <td>0.000000</td>\n",
              "      <td>4000.000000</td>\n",
              "      <td>6000.000000</td>\n",
              "      <td>1.000000</td>\n",
              "    </tr>\n",
              "    <tr>\n",
              "      <th>75%</th>\n",
              "      <td>300.000000</td>\n",
              "      <td>28.750000</td>\n",
              "      <td>NaN</td>\n",
              "      <td>NaN</td>\n",
              "      <td>1.000000</td>\n",
              "      <td>1.000000</td>\n",
              "      <td>8250.000000</td>\n",
              "      <td>10000.000000</td>\n",
              "      <td>1.000000</td>\n",
              "    </tr>\n",
              "    <tr>\n",
              "      <th>max</th>\n",
              "      <td>300.000000</td>\n",
              "      <td>38.000000</td>\n",
              "      <td>NaN</td>\n",
              "      <td>NaN</td>\n",
              "      <td>1.000000</td>\n",
              "      <td>1.000000</td>\n",
              "      <td>100000.000000</td>\n",
              "      <td>20000.000000</td>\n",
              "      <td>1.000000</td>\n",
              "    </tr>\n",
              "  </tbody>\n",
              "</table>\n",
              "</div>"
            ],
            "text/plain": [
              "             year  battle_number  defender_3  defender_4  major_death  \\\n",
              "count   38.000000      38.000000         0.0         0.0    37.000000   \n",
              "mean   299.105263      19.500000         NaN         NaN     0.351351   \n",
              "std      0.689280      11.113055         NaN         NaN     0.483978   \n",
              "min    298.000000       1.000000         NaN         NaN     0.000000   \n",
              "25%    299.000000      10.250000         NaN         NaN     0.000000   \n",
              "50%    299.000000      19.500000         NaN         NaN     0.000000   \n",
              "75%    300.000000      28.750000         NaN         NaN     1.000000   \n",
              "max    300.000000      38.000000         NaN         NaN     1.000000   \n",
              "\n",
              "       major_capture  attacker_size  defender_size     summer  \n",
              "count      37.000000      24.000000      19.000000  37.000000  \n",
              "mean        0.297297    9942.541667    6428.157895   0.702703  \n",
              "std         0.463373   20283.092065    6225.182106   0.463373  \n",
              "min         0.000000      20.000000     100.000000   0.000000  \n",
              "25%         0.000000    1375.000000    1070.000000   0.000000  \n",
              "50%         0.000000    4000.000000    6000.000000   1.000000  \n",
              "75%         1.000000    8250.000000   10000.000000   1.000000  \n",
              "max         1.000000  100000.000000   20000.000000   1.000000  "
            ]
          },
          "metadata": {
            "tags": []
          },
          "execution_count": 12
        }
      ]
    },
    {
      "metadata": {
        "id": "hPAtScdN8TWH",
        "colab_type": "code",
        "colab": {
          "base_uri": "https://localhost:8080/",
          "height": 440
        },
        "outputId": "8d6eda21-029a-4fac-ef7a-2805fc1038f5"
      },
      "cell_type": "code",
      "source": [
        "got_battles_df.head()"
      ],
      "execution_count": 13,
      "outputs": [
        {
          "output_type": "execute_result",
          "data": {
            "text/html": [
              "<div>\n",
              "<style scoped>\n",
              "    .dataframe tbody tr th:only-of-type {\n",
              "        vertical-align: middle;\n",
              "    }\n",
              "\n",
              "    .dataframe tbody tr th {\n",
              "        vertical-align: top;\n",
              "    }\n",
              "\n",
              "    .dataframe thead th {\n",
              "        text-align: right;\n",
              "    }\n",
              "</style>\n",
              "<table border=\"1\" class=\"dataframe\">\n",
              "  <thead>\n",
              "    <tr style=\"text-align: right;\">\n",
              "      <th></th>\n",
              "      <th>name</th>\n",
              "      <th>year</th>\n",
              "      <th>battle_number</th>\n",
              "      <th>attacker_king</th>\n",
              "      <th>defender_king</th>\n",
              "      <th>attacker_1</th>\n",
              "      <th>attacker_2</th>\n",
              "      <th>attacker_3</th>\n",
              "      <th>attacker_4</th>\n",
              "      <th>defender_1</th>\n",
              "      <th>...</th>\n",
              "      <th>major_death</th>\n",
              "      <th>major_capture</th>\n",
              "      <th>attacker_size</th>\n",
              "      <th>defender_size</th>\n",
              "      <th>attacker_commander</th>\n",
              "      <th>defender_commander</th>\n",
              "      <th>summer</th>\n",
              "      <th>location</th>\n",
              "      <th>region</th>\n",
              "      <th>note</th>\n",
              "    </tr>\n",
              "  </thead>\n",
              "  <tbody>\n",
              "    <tr>\n",
              "      <th>0</th>\n",
              "      <td>Battle of the Golden Tooth</td>\n",
              "      <td>298</td>\n",
              "      <td>1</td>\n",
              "      <td>Joffrey/Tommen Baratheon</td>\n",
              "      <td>Robb Stark</td>\n",
              "      <td>Lannister</td>\n",
              "      <td>NaN</td>\n",
              "      <td>NaN</td>\n",
              "      <td>NaN</td>\n",
              "      <td>Tully</td>\n",
              "      <td>...</td>\n",
              "      <td>1.0</td>\n",
              "      <td>0.0</td>\n",
              "      <td>15000.0</td>\n",
              "      <td>4000.0</td>\n",
              "      <td>Jaime Lannister</td>\n",
              "      <td>Clement Piper, Vance</td>\n",
              "      <td>1.0</td>\n",
              "      <td>Golden Tooth</td>\n",
              "      <td>The Westerlands</td>\n",
              "      <td>NaN</td>\n",
              "    </tr>\n",
              "    <tr>\n",
              "      <th>1</th>\n",
              "      <td>Battle at the Mummer's Ford</td>\n",
              "      <td>298</td>\n",
              "      <td>2</td>\n",
              "      <td>Joffrey/Tommen Baratheon</td>\n",
              "      <td>Robb Stark</td>\n",
              "      <td>Lannister</td>\n",
              "      <td>NaN</td>\n",
              "      <td>NaN</td>\n",
              "      <td>NaN</td>\n",
              "      <td>Baratheon</td>\n",
              "      <td>...</td>\n",
              "      <td>1.0</td>\n",
              "      <td>0.0</td>\n",
              "      <td>NaN</td>\n",
              "      <td>120.0</td>\n",
              "      <td>Gregor Clegane</td>\n",
              "      <td>Beric Dondarrion</td>\n",
              "      <td>1.0</td>\n",
              "      <td>Mummer's Ford</td>\n",
              "      <td>The Riverlands</td>\n",
              "      <td>NaN</td>\n",
              "    </tr>\n",
              "    <tr>\n",
              "      <th>2</th>\n",
              "      <td>Battle of Riverrun</td>\n",
              "      <td>298</td>\n",
              "      <td>3</td>\n",
              "      <td>Joffrey/Tommen Baratheon</td>\n",
              "      <td>Robb Stark</td>\n",
              "      <td>Lannister</td>\n",
              "      <td>NaN</td>\n",
              "      <td>NaN</td>\n",
              "      <td>NaN</td>\n",
              "      <td>Tully</td>\n",
              "      <td>...</td>\n",
              "      <td>0.0</td>\n",
              "      <td>1.0</td>\n",
              "      <td>15000.0</td>\n",
              "      <td>10000.0</td>\n",
              "      <td>Jaime Lannister, Andros Brax</td>\n",
              "      <td>Edmure Tully, Tytos Blackwood</td>\n",
              "      <td>1.0</td>\n",
              "      <td>Riverrun</td>\n",
              "      <td>The Riverlands</td>\n",
              "      <td>NaN</td>\n",
              "    </tr>\n",
              "    <tr>\n",
              "      <th>3</th>\n",
              "      <td>Battle of the Green Fork</td>\n",
              "      <td>298</td>\n",
              "      <td>4</td>\n",
              "      <td>Robb Stark</td>\n",
              "      <td>Joffrey/Tommen Baratheon</td>\n",
              "      <td>Stark</td>\n",
              "      <td>NaN</td>\n",
              "      <td>NaN</td>\n",
              "      <td>NaN</td>\n",
              "      <td>Lannister</td>\n",
              "      <td>...</td>\n",
              "      <td>1.0</td>\n",
              "      <td>1.0</td>\n",
              "      <td>18000.0</td>\n",
              "      <td>20000.0</td>\n",
              "      <td>Roose Bolton, Wylis Manderly, Medger Cerwyn, H...</td>\n",
              "      <td>Tywin Lannister, Gregor Clegane, Kevan Lannist...</td>\n",
              "      <td>1.0</td>\n",
              "      <td>Green Fork</td>\n",
              "      <td>The Riverlands</td>\n",
              "      <td>NaN</td>\n",
              "    </tr>\n",
              "    <tr>\n",
              "      <th>4</th>\n",
              "      <td>Battle of the Whispering Wood</td>\n",
              "      <td>298</td>\n",
              "      <td>5</td>\n",
              "      <td>Robb Stark</td>\n",
              "      <td>Joffrey/Tommen Baratheon</td>\n",
              "      <td>Stark</td>\n",
              "      <td>Tully</td>\n",
              "      <td>NaN</td>\n",
              "      <td>NaN</td>\n",
              "      <td>Lannister</td>\n",
              "      <td>...</td>\n",
              "      <td>1.0</td>\n",
              "      <td>1.0</td>\n",
              "      <td>1875.0</td>\n",
              "      <td>6000.0</td>\n",
              "      <td>Robb Stark, Brynden Tully</td>\n",
              "      <td>Jaime Lannister</td>\n",
              "      <td>1.0</td>\n",
              "      <td>Whispering Wood</td>\n",
              "      <td>The Riverlands</td>\n",
              "      <td>NaN</td>\n",
              "    </tr>\n",
              "  </tbody>\n",
              "</table>\n",
              "<p>5 rows × 25 columns</p>\n",
              "</div>"
            ],
            "text/plain": [
              "                            name  year  battle_number  \\\n",
              "0     Battle of the Golden Tooth   298              1   \n",
              "1    Battle at the Mummer's Ford   298              2   \n",
              "2             Battle of Riverrun   298              3   \n",
              "3       Battle of the Green Fork   298              4   \n",
              "4  Battle of the Whispering Wood   298              5   \n",
              "\n",
              "              attacker_king             defender_king attacker_1 attacker_2  \\\n",
              "0  Joffrey/Tommen Baratheon                Robb Stark  Lannister        NaN   \n",
              "1  Joffrey/Tommen Baratheon                Robb Stark  Lannister        NaN   \n",
              "2  Joffrey/Tommen Baratheon                Robb Stark  Lannister        NaN   \n",
              "3                Robb Stark  Joffrey/Tommen Baratheon      Stark        NaN   \n",
              "4                Robb Stark  Joffrey/Tommen Baratheon      Stark      Tully   \n",
              "\n",
              "  attacker_3 attacker_4 defender_1 ...  major_death  major_capture  \\\n",
              "0        NaN        NaN      Tully ...          1.0            0.0   \n",
              "1        NaN        NaN  Baratheon ...          1.0            0.0   \n",
              "2        NaN        NaN      Tully ...          0.0            1.0   \n",
              "3        NaN        NaN  Lannister ...          1.0            1.0   \n",
              "4        NaN        NaN  Lannister ...          1.0            1.0   \n",
              "\n",
              "   attacker_size defender_size  \\\n",
              "0        15000.0        4000.0   \n",
              "1            NaN         120.0   \n",
              "2        15000.0       10000.0   \n",
              "3        18000.0       20000.0   \n",
              "4         1875.0        6000.0   \n",
              "\n",
              "                                  attacker_commander  \\\n",
              "0                                    Jaime Lannister   \n",
              "1                                     Gregor Clegane   \n",
              "2                       Jaime Lannister, Andros Brax   \n",
              "3  Roose Bolton, Wylis Manderly, Medger Cerwyn, H...   \n",
              "4                          Robb Stark, Brynden Tully   \n",
              "\n",
              "                                  defender_commander  summer         location  \\\n",
              "0                               Clement Piper, Vance     1.0     Golden Tooth   \n",
              "1                                   Beric Dondarrion     1.0    Mummer's Ford   \n",
              "2                      Edmure Tully, Tytos Blackwood     1.0         Riverrun   \n",
              "3  Tywin Lannister, Gregor Clegane, Kevan Lannist...     1.0       Green Fork   \n",
              "4                                    Jaime Lannister     1.0  Whispering Wood   \n",
              "\n",
              "            region note  \n",
              "0  The Westerlands  NaN  \n",
              "1   The Riverlands  NaN  \n",
              "2   The Riverlands  NaN  \n",
              "3   The Riverlands  NaN  \n",
              "4   The Riverlands  NaN  \n",
              "\n",
              "[5 rows x 25 columns]"
            ]
          },
          "metadata": {
            "tags": []
          },
          "execution_count": 13
        }
      ]
    },
    {
      "metadata": {
        "id": "yP1uZWNJ8mOL",
        "colab_type": "code",
        "colab": {
          "base_uri": "https://localhost:8080/",
          "height": 335
        },
        "outputId": "3a45b0bd-d5a6-4a8b-f0ef-36fb21cdd9ca"
      },
      "cell_type": "code",
      "source": [
        "import matplotlib.pyplot as plt\n",
        "plt.style.use('dark_background')\n",
        "\n",
        "got_battles_df.hist('attacker_size')"
      ],
      "execution_count": 14,
      "outputs": [
        {
          "output_type": "execute_result",
          "data": {
            "text/plain": [
              "array([[<matplotlib.axes._subplots.AxesSubplot object at 0x7f0fcfe2b828>]],\n",
              "      dtype=object)"
            ]
          },
          "metadata": {
            "tags": []
          },
          "execution_count": 14
        },
        {
          "output_type": "display_data",
          "data": {
            "image/png": "[encoded data removed]",
            "text/plain": [
              "<Figure size 432x288 with 1 Axes>"
            ]
          },
          "metadata": {
            "tags": []
          }
        }
      ]
    },
    {
      "metadata": {
        "id": "RxyHh-Tw8r1b",
        "colab_type": "code",
        "colab": {
          "base_uri": "https://localhost:8080/",
          "height": 54
        },
        "outputId": "3a84c6b4-dbe1-436d-baa2-d8fbbec577b9"
      },
      "cell_type": "code",
      "source": [
        "got_battles_df.to_json()"
      ],
      "execution_count": 21,
      "outputs": [
        {
          "output_type": "execute_result",
          "data": {
            "text/plain": [
              "'{\"name\":{\"0\":\"Battle of the Golden Tooth\",\"1\":\"Battle at the Mummer\\'s Ford\",\"2\":\"Battle of Riverrun\",\"3\":\"Battle of the Green Fork\",\"4\":\"Battle of the Whispering Wood\",\"5\":\"Battle of the Camps\",\"6\":\"Sack of Darry\",\"7\":\"Battle of Moat Cailin\",\"8\":\"Battle of Deepwood Motte\",\"9\":\"Battle of the Stony Shore\",\"10\":\"Battle of Torrhen\\'s Square\",\"11\":\"Battle of Winterfell\",\"12\":\"Sack of Torrhen\\'s Square\",\"13\":\"Sack of Winterfell\",\"14\":\"Battle of Oxcross\",\"15\":\"Siege of Storm\\'s End\",\"16\":\"Battle of the Fords\",\"17\":\"Sack of Harrenhal\",\"18\":\"Battle of the Crag\",\"19\":\"Battle of the Blackwater\",\"20\":\"Siege of Darry\",\"21\":\"Battle of Duskendale\",\"22\":\"Battle of the Burning Septry\",\"23\":\"Battle of the Ruby Ford\",\"24\":\"Retaking of Harrenhal\",\"25\":\"The Red Wedding\",\"26\":\"Siege of Seagard\",\"27\":\"Battle of Castle Black\",\"28\":\"Fall of Moat Cailin\",\"29\":\"Sack of Saltpans\",\"30\":\"Retaking of Deepwood Motte\",\"31\":\"Battle of the Shield Islands\",\"32\":\"Invasion of Ryamsport, Vinetown, and Starfish Harbor\",\"33\":\"Second Seige of Storm\\'s End\",\"34\":\"Siege of Dragonstone\",\"35\":\"Siege of Riverrun\",\"36\":\"Siege of Raventree\",\"37\":\"Siege of Winterfell\"},\"year\":{\"0\":298,\"1\":298,\"2\":298,\"3\":298,\"4\":298,\"5\":298,\"6\":298,\"7\":299,\"8\":299,\"9\":299,\"10\":299,\"11\":299,\"12\":299,\"13\":299,\"14\":299,\"15\":299,\"16\":299,\"17\":299,\"18\":299,\"19\":299,\"20\":299,\"21\":299,\"22\":299,\"23\":299,\"24\":299,\"25\":299,\"26\":299,\"27\":300,\"28\":300,\"29\":300,\"30\":300,\"31\":300,\"32\":300,\"33\":300,\"34\":300,\"35\":300,\"36\":300,\"37\":300},\"battle_number\":{\"0\":1,\"1\":2,\"2\":3,\"3\":4,\"4\":5,\"5\":6,\"6\":7,\"7\":8,\"8\":9,\"9\":10,\"10\":11,\"11\":12,\"12\":13,\"13\":14,\"14\":15,\"15\":16,\"16\":17,\"17\":18,\"18\":19,\"19\":20,\"20\":21,\"21\":22,\"22\":23,\"23\":24,\"24\":25,\"25\":26,\"26\":27,\"27\":28,\"28\":29,\"29\":30,\"30\":31,\"31\":32,\"32\":33,\"33\":34,\"34\":35,\"35\":36,\"36\":37,\"37\":38},\"attacker_king\":{\"0\":\"Joffrey\\\\/Tommen Baratheon\",\"1\":\"Joffrey\\\\/Tommen Baratheon\",\"2\":\"Joffrey\\\\/Tommen Baratheon\",\"3\":\"Robb Stark\",\"4\":\"Robb Stark\",\"5\":\"Robb Stark\",\"6\":\"Joffrey\\\\/Tommen Baratheon\",\"7\":\"Balon\\\\/Euron Greyjoy\",\"8\":\"Balon\\\\/Euron Greyjoy\",\"9\":\"Balon\\\\/Euron Greyjoy\",\"10\":\"Robb Stark\",\"11\":\"Balon\\\\/Euron Greyjoy\",\"12\":\"Balon\\\\/Euron Greyjoy\",\"13\":\"Joffrey\\\\/Tommen Baratheon\",\"14\":\"Robb Stark\",\"15\":\"Stannis Baratheon\",\"16\":\"Joffrey\\\\/Tommen Baratheon\",\"17\":\"Robb Stark\",\"18\":\"Robb Stark\",\"19\":\"Stannis Baratheon\",\"20\":\"Robb Stark\",\"21\":\"Robb Stark\",\"22\":null,\"23\":\"Joffrey\\\\/Tommen Baratheon\",\"24\":\"Joffrey\\\\/Tommen Baratheon\",\"25\":\"Joffrey\\\\/Tommen Baratheon\",\"26\":\"Robb Stark\",\"27\":\"Stannis Baratheon\",\"28\":\"Joffrey\\\\/Tommen Baratheon\",\"29\":null,\"30\":\"Stannis Baratheon\",\"31\":\"Balon\\\\/Euron Greyjoy\",\"32\":\"Balon\\\\/Euron Greyjoy\",\"33\":\"Joffrey\\\\/Tommen Baratheon\",\"34\":\"Joffrey\\\\/Tommen Baratheon\",\"35\":\"Joffrey\\\\/Tommen Baratheon\",\"36\":\"Joffrey\\\\/Tommen Baratheon\",\"37\":\"Stannis Baratheon\"},\"defender_king\":{\"0\":\"Robb Stark\",\"1\":\"Robb Stark\",\"2\":\"Robb Stark\",\"3\":\"Joffrey\\\\/Tommen Baratheon\",\"4\":\"Joffrey\\\\/Tommen Baratheon\",\"5\":\"Joffrey\\\\/Tommen Baratheon\",\"6\":\"Robb Stark\",\"7\":\"Robb Stark\",\"8\":\"Robb Stark\",\"9\":\"Robb Stark\",\"10\":\"Balon\\\\/Euron Greyjoy\",\"11\":\"Robb Stark\",\"12\":\"Balon\\\\/Euron Greyjoy\",\"13\":\"Robb Stark\",\"14\":\"Joffrey\\\\/Tommen Baratheon\",\"15\":\"Renly Baratheon\",\"16\":\"Robb Stark\",\"17\":\"Joffrey\\\\/Tommen Baratheon\",\"18\":\"Joffrey\\\\/Tommen Baratheon\",\"19\":\"Joffrey\\\\/Tommen Baratheon\",\"20\":\"Joffrey\\\\/Tommen Baratheon\",\"21\":\"Joffrey\\\\/Tommen Baratheon\",\"22\":null,\"23\":\"Robb Stark\",\"24\":null,\"25\":\"Robb Stark\",\"26\":\"Joffrey\\\\/Tommen Baratheon\",\"27\":\"Mance Rayder\",\"28\":\"Balon\\\\/Euron Greyjoy\",\"29\":null,\"30\":\"Balon\\\\/Euron Greyjoy\",\"31\":\"Joffrey\\\\/Tommen Baratheon\",\"32\":\"Joffrey\\\\/Tommen Baratheon\",\"33\":\"Stannis Baratheon\",\"34\":\"Stannis Baratheon\",\"35\":\"Robb Stark\",\"36\":\"Robb Stark\",\"37\":\"Joffrey\\\\/Tommen Baratheon\"},\"attacker_1\":{\"0\":\"Lannister\",\"1\":\"Lannister\",\"2\":\"Lannister\",\"3\":\"Stark\",\"4\":\"Stark\",\"5\":\"Stark\",\"6\":\"Lannister\",\"7\":\"Greyjoy\",\"8\":\"Greyjoy\",\"9\":\"Greyjoy\",\"10\":\"Stark\",\"11\":\"Greyjoy\",\"12\":\"Greyjoy\",\"13\":\"Bolton\",\"14\":\"Stark\",\"15\":\"Baratheon\",\"16\":\"Lannister\",\"17\":\"Stark\",\"18\":\"Stark\",\"19\":\"Baratheon\",\"20\":\"Darry\",\"21\":\"Stark\",\"22\":\"Brotherhood without Banners\",\"23\":\"Lannister\",\"24\":\"Lannister\",\"25\":\"Frey\",\"26\":\"Frey\",\"27\":\"Free folk\",\"28\":\"Bolton\",\"29\":\"Brave Companions\",\"30\":\"Baratheon\",\"31\":\"Greyjoy\",\"32\":\"Greyjoy\",\"33\":\"Baratheon\",\"34\":\"Baratheon\",\"35\":\"Lannister\",\"36\":\"Bracken\",\"37\":\"Baratheon\"},\"attacker_2\":{\"0\":null,\"1\":null,\"2\":null,\"3\":null,\"4\":\"Tully\",\"5\":\"Tully\",\"6\":null,\"7\":null,\"8\":null,\"9\":null,\"10\":null,\"11\":null,\"12\":null,\"13\":\"Greyjoy\",\"14\":\"Tully\",\"15\":null,\"16\":null,\"17\":null,\"18\":null,\"19\":null,\"20\":null,\"21\":null,\"22\":null,\"23\":null,\"24\":null,\"25\":\"Bolton\",\"26\":null,\"27\":\"Thenns\",\"28\":null,\"29\":null,\"30\":\"Karstark\",\"31\":null,\"32\":null,\"33\":null,\"34\":null,\"35\":\"Frey\",\"36\":\"Lannister\",\"37\":\"Karstark\"},\"attacker_3\":{\"0\":null,\"1\":null,\"2\":null,\"3\":null,\"4\":null,\"5\":null,\"6\":null,\"7\":null,\"8\":null,\"9\":null,\"10\":null,\"11\":null,\"12\":null,\"13\":null,\"14\":null,\"15\":null,\"16\":null,\"17\":null,\"18\":null,\"19\":null,\"20\":null,\"21\":null,\"22\":null,\"23\":null,\"24\":null,\"25\":null,\"26\":null,\"27\":\"Giants\",\"28\":null,\"29\":null,\"30\":\"Mormont\",\"31\":null,\"32\":null,\"33\":null,\"34\":null,\"35\":null,\"36\":null,\"37\":\"Mormont\"},\"attacker_4\":{\"0\":null,\"1\":null,\"2\":null,\"3\":null,\"4\":null,\"5\":null,\"6\":null,\"7\":null,\"8\":null,\"9\":null,\"10\":null,\"11\":null,\"12\":null,\"13\":null,\"14\":null,\"15\":null,\"16\":null,\"17\":null,\"18\":null,\"19\":null,\"20\":null,\"21\":null,\"22\":null,\"23\":null,\"24\":null,\"25\":null,\"26\":null,\"27\":null,\"28\":null,\"29\":null,\"30\":\"Glover\",\"31\":null,\"32\":null,\"33\":null,\"34\":null,\"35\":null,\"36\":null,\"37\":\"Glover\"},\"defender_1\":{\"0\":\"Tully\",\"1\":\"Baratheon\",\"2\":\"Tully\",\"3\":\"Lannister\",\"4\":\"Lannister\",\"5\":\"Lannister\",\"6\":\"Darry\",\"7\":\"Stark\",\"8\":\"Stark\",\"9\":\"Stark\",\"10\":\"Greyjoy\",\"11\":\"Stark\",\"12\":\"Stark\",\"13\":\"Stark\",\"14\":\"Lannister\",\"15\":\"Baratheon\",\"16\":\"Tully\",\"17\":\"Lannister\",\"18\":\"Lannister\",\"19\":\"Lannister\",\"20\":\"Lannister\",\"21\":\"Lannister\",\"22\":\"Brave Companions\",\"23\":\"Stark\",\"24\":\"Brave Companions\",\"25\":\"Stark\",\"26\":\"Mallister\",\"27\":\"Night\\'s Watch\",\"28\":\"Greyjoy\",\"29\":null,\"30\":\"Greyjoy\",\"31\":\"Tyrell\",\"32\":\"Tyrell\",\"33\":\"Baratheon\",\"34\":\"Baratheon\",\"35\":\"Tully\",\"36\":\"Blackwood\",\"37\":\"Bolton\"},\"defender_2\":{\"0\":null,\"1\":null,\"2\":null,\"3\":null,\"4\":null,\"5\":null,\"6\":null,\"7\":null,\"8\":null,\"9\":null,\"10\":null,\"11\":null,\"12\":null,\"13\":null,\"14\":null,\"15\":null,\"16\":null,\"17\":null,\"18\":null,\"19\":null,\"20\":null,\"21\":null,\"22\":null,\"23\":null,\"24\":null,\"25\":null,\"26\":null,\"27\":\"Baratheon\",\"28\":null,\"29\":null,\"30\":null,\"31\":null,\"32\":null,\"33\":null,\"34\":null,\"35\":null,\"36\":null,\"37\":\"Frey\"},\"defender_3\":{\"0\":null,\"1\":null,\"2\":null,\"3\":null,\"4\":null,\"5\":null,\"6\":null,\"7\":null,\"8\":null,\"9\":null,\"10\":null,\"11\":null,\"12\":null,\"13\":null,\"14\":null,\"15\":null,\"16\":null,\"17\":null,\"18\":null,\"19\":null,\"20\":null,\"21\":null,\"22\":null,\"23\":null,\"24\":null,\"25\":null,\"26\":null,\"27\":null,\"28\":null,\"29\":null,\"30\":null,\"31\":null,\"32\":null,\"33\":null,\"34\":null,\"35\":null,\"36\":null,\"37\":null},\"defender_4\":{\"0\":null,\"1\":null,\"2\":null,\"3\":null,\"4\":null,\"5\":null,\"6\":null,\"7\":null,\"8\":null,\"9\":null,\"10\":null,\"11\":null,\"12\":null,\"13\":null,\"14\":null,\"15\":null,\"16\":null,\"17\":null,\"18\":null,\"19\":null,\"20\":null,\"21\":null,\"22\":null,\"23\":null,\"24\":null,\"25\":null,\"26\":null,\"27\":null,\"28\":null,\"29\":null,\"30\":null,\"31\":null,\"32\":null,\"33\":null,\"34\":null,\"35\":null,\"36\":null,\"37\":null},\"attacker_outcome\":{\"0\":\"win\",\"1\":\"win\",\"2\":\"win\",\"3\":\"loss\",\"4\":\"win\",\"5\":\"win\",\"6\":\"win\",\"7\":\"win\",\"8\":\"win\",\"9\":\"win\",\"10\":\"win\",\"11\":\"win\",\"12\":\"win\",\"13\":\"win\",\"14\":\"win\",\"15\":\"win\",\"16\":\"loss\",\"17\":\"win\",\"18\":\"win\",\"19\":\"loss\",\"20\":\"win\",\"21\":\"loss\",\"22\":\"win\",\"23\":\"win\",\"24\":\"win\",\"25\":\"win\",\"26\":\"win\",\"27\":\"loss\",\"28\":\"win\",\"29\":\"win\",\"30\":\"win\",\"31\":\"win\",\"32\":\"win\",\"33\":\"win\",\"34\":\"win\",\"35\":\"win\",\"36\":\"win\",\"37\":null},\"battle_type\":{\"0\":\"pitched battle\",\"1\":\"ambush\",\"2\":\"pitched battle\",\"3\":\"pitched battle\",\"4\":\"ambush\",\"5\":\"ambush\",\"6\":\"pitched battle\",\"7\":\"pitched battle\",\"8\":\"siege\",\"9\":\"ambush\",\"10\":\"pitched battle\",\"11\":\"ambush\",\"12\":\"siege\",\"13\":\"ambush\",\"14\":\"ambush\",\"15\":\"siege\",\"16\":\"pitched battle\",\"17\":\"ambush\",\"18\":\"ambush\",\"19\":\"pitched battle\",\"20\":\"siege\",\"21\":\"pitched battle\",\"22\":\"pitched battle\",\"23\":\"pitched battle\",\"24\":\"pitched battle\",\"25\":\"ambush\",\"26\":\"siege\",\"27\":\"siege\",\"28\":\"siege\",\"29\":\"razing\",\"30\":\"pitched battle\",\"31\":\"pitched battle\",\"32\":\"razing\",\"33\":\"siege\",\"34\":\"siege\",\"35\":\"siege\",\"36\":\"siege\",\"37\":null},\"major_death\":{\"0\":1.0,\"1\":1.0,\"2\":0.0,\"3\":1.0,\"4\":1.0,\"5\":0.0,\"6\":0.0,\"7\":0.0,\"8\":0.0,\"9\":0.0,\"10\":0.0,\"11\":0.0,\"12\":0.0,\"13\":1.0,\"14\":1.0,\"15\":1.0,\"16\":0.0,\"17\":1.0,\"18\":0.0,\"19\":1.0,\"20\":0.0,\"21\":1.0,\"22\":0.0,\"23\":0.0,\"24\":1.0,\"25\":1.0,\"26\":0.0,\"27\":1.0,\"28\":0.0,\"29\":0.0,\"30\":0.0,\"31\":0.0,\"32\":0.0,\"33\":0.0,\"34\":0.0,\"35\":0.0,\"36\":0.0,\"37\":null},\"major_capture\":{\"0\":0.0,\"1\":0.0,\"2\":1.0,\"3\":1.0,\"4\":1.0,\"5\":0.0,\"6\":0.0,\"7\":0.0,\"8\":0.0,\"9\":0.0,\"10\":0.0,\"11\":1.0,\"12\":1.0,\"13\":0.0,\"14\":1.0,\"15\":0.0,\"16\":0.0,\"17\":0.0,\"18\":0.0,\"19\":1.0,\"20\":0.0,\"21\":0.0,\"22\":0.0,\"23\":0.0,\"24\":0.0,\"25\":1.0,\"26\":1.0,\"27\":1.0,\"28\":0.0,\"29\":0.0,\"30\":0.0,\"31\":0.0,\"32\":0.0,\"33\":0.0,\"34\":0.0,\"35\":0.0,\"36\":1.0,\"37\":null},\"attacker_size\":{\"0\":15000.0,\"1\":null,\"2\":15000.0,\"3\":18000.0,\"4\":1875.0,\"5\":6000.0,\"6\":null,\"7\":null,\"8\":1000.0,\"9\":264.0,\"10\":244.0,\"11\":20.0,\"12\":null,\"13\":618.0,\"14\":6000.0,\"15\":5000.0,\"16\":20000.0,\"17\":100.0,\"18\":6000.0,\"19\":21000.0,\"20\":null,\"21\":3000.0,\"22\":null,\"23\":null,\"24\":null,\"25\":3500.0,\"26\":null,\"27\":100000.0,\"28\":null,\"29\":null,\"30\":4500.0,\"31\":null,\"32\":null,\"33\":null,\"34\":2000.0,\"35\":3000.0,\"36\":1500.0,\"37\":5000.0},\"defender_size\":{\"0\":4000.0,\"1\":120.0,\"2\":10000.0,\"3\":20000.0,\"4\":6000.0,\"5\":12625.0,\"6\":null,\"7\":null,\"8\":null,\"9\":null,\"10\":900.0,\"11\":null,\"12\":null,\"13\":2000.0,\"14\":10000.0,\"15\":20000.0,\"16\":10000.0,\"17\":100.0,\"18\":null,\"19\":7250.0,\"20\":null,\"21\":null,\"22\":null,\"23\":6000.0,\"24\":null,\"25\":3500.0,\"26\":null,\"27\":1240.0,\"28\":null,\"29\":null,\"30\":200.0,\"31\":null,\"32\":null,\"33\":200.0,\"34\":null,\"35\":null,\"36\":null,\"37\":8000.0},\"attacker_commander\":{\"0\":\"Jaime Lannister\",\"1\":\"Gregor Clegane\",\"2\":\"Jaime Lannister, Andros Brax\",\"3\":\"Roose Bolton, Wylis Manderly, Medger Cerwyn, Harrion Karstark, Halys Hornwood\",\"4\":\"Robb Stark, Brynden Tully\",\"5\":\"Robb Stark, Tytos Blackwood, Brynden Tully\",\"6\":\"Gregor Clegane\",\"7\":\"Victarion Greyjoy\",\"8\":\"Asha Greyjoy\",\"9\":\"Theon Greyjoy\",\"10\":\"Rodrik Cassel, Cley Cerwyn\",\"11\":\"Theon Greyjoy\",\"12\":\"Dagmer Cleftjaw\",\"13\":\"Ramsay Snow, Theon Greyjoy \",\"14\":\"Robb Stark, Brynden Tully\",\"15\":\"Stannis Baratheon, Davos Seaworth\",\"16\":\"Tywin Lannister, Flement Brax, Gregor Clegane, Addam Marbrand, Lyle Crakehall, Leo Lefford\",\"17\":\"Roose Bolton, Vargo Hoat, Robett Glover\",\"18\":\"Robb Stark, Smalljon Umber, Black Walder Frey\",\"19\":\"Stannis Baratheon, Imry Florent, Guyard Morrigen, Rolland Storm, Salladhor Saan, Davos Seaworth\",\"20\":\"Helman Tallhart\",\"21\":\"Robertt Glover, Helman Tallhart\",\"22\":null,\"23\":\"Gregor Clegane\",\"24\":\"Gregor Clegane\",\"25\":\"Walder Frey, Roose Bolton, Walder Rivers\",\"26\":\"Walder Frey\",\"27\":\"Mance Rayder, Tormund Giantsbane, Harma Dogshead, Magnar Styr, Varamyr\",\"28\":\"Ramsey Bolton\",\"29\":\"Rorge\",\"30\":\"Stannis Baratheon, Alysane Mormot\",\"31\":\"Euron Greyjoy, Victarion Greyjoy\",\"32\":\"Euron Greyjoy, Victarion Greyjoy\",\"33\":\"Mace Tyrell, Mathis Rowan\",\"34\":\"Loras Tyrell, Raxter Redwyne\",\"35\":\"Daven Lannister, Ryman Fey, Jaime Lannister\",\"36\":\"Jonos Bracken, Jaime Lannister\",\"37\":\"Stannis Baratheon\"},\"defender_commander\":{\"0\":\"Clement Piper, Vance\",\"1\":\"Beric Dondarrion\",\"2\":\"Edmure Tully, Tytos Blackwood\",\"3\":\"Tywin Lannister, Gregor Clegane, Kevan Lannister, Addam Marbrand\",\"4\":\"Jaime Lannister\",\"5\":\"Lord Andros Brax, Forley Prester\",\"6\":\"Lyman Darry\",\"7\":null,\"8\":null,\"9\":null,\"10\":\"Dagmer Cleftjaw\",\"11\":\"Bran Stark\",\"12\":null,\"13\":\"Rodrik Cassel, Cley Cerwyn, Leobald Tallhart\",\"14\":\"Stafford Lannister, Roland Crakehall, Antario Jast\",\"15\":\"Renly Baratheon, Cortnay Penrose, Loras Tyrell, Randyll Tarly, Mathis Rowan\",\"16\":\"Edmure Tully, Jason Mallister, Karyl Vance\",\"17\":\"Amory Lorch\",\"18\":\"Rolph Spicer\",\"19\":\"Tyrion Lannister, Jacelyn Bywater, Sandor Clegane, Tywin Lannister, Garlan Tyrell, Mace Tyrell, Randyll Tarly\",\"20\":null,\"21\":\"Randyll Tarly, Gregor Clegane\",\"22\":null,\"23\":\"Roose Bolton, Wylis Manderly\",\"24\":\"Vargo Hoat\",\"25\":\"Robb Stark\",\"26\":\"Jason Mallister\",\"27\":\"Stannis Baratheon, Jon Snow, Donal Noye, Cotter Pyke\",\"28\":null,\"29\":null,\"30\":\"Asha Greyjoy\",\"31\":null,\"32\":null,\"33\":\"Gilbert Farring\",\"34\":\"Rolland Storm\",\"35\":\"Brynden Tully\",\"36\":\"Tytos Blackwood\",\"37\":\"Roose Bolton\"},\"summer\":{\"0\":1.0,\"1\":1.0,\"2\":1.0,\"3\":1.0,\"4\":1.0,\"5\":1.0,\"6\":1.0,\"7\":1.0,\"8\":1.0,\"9\":1.0,\"10\":1.0,\"11\":1.0,\"12\":1.0,\"13\":1.0,\"14\":1.0,\"15\":1.0,\"16\":1.0,\"17\":1.0,\"18\":1.0,\"19\":1.0,\"20\":1.0,\"21\":1.0,\"22\":1.0,\"23\":null,\"24\":1.0,\"25\":1.0,\"26\":1.0,\"27\":0.0,\"28\":0.0,\"29\":0.0,\"30\":0.0,\"31\":0.0,\"32\":0.0,\"33\":0.0,\"34\":0.0,\"35\":0.0,\"36\":0.0,\"37\":0.0},\"location\":{\"0\":\"Golden Tooth\",\"1\":\"Mummer\\'s Ford\",\"2\":\"Riverrun\",\"3\":\"Green Fork\",\"4\":\"Whispering Wood\",\"5\":\"Riverrun\",\"6\":\"Darry\",\"7\":\"Moat Cailin\",\"8\":\"Deepwood Motte\",\"9\":\"Stony Shore\",\"10\":\"Torrhen\\'s Square\",\"11\":\"Winterfell\",\"12\":\"Torrhen\\'s Square\",\"13\":\"Winterfell\",\"14\":\"Oxcross\",\"15\":\"Storm\\'s End\",\"16\":\"Red Fork\",\"17\":\"Harrenhal\",\"18\":\"Crag\",\"19\":\"King\\'s Landing\",\"20\":\"Darry\",\"21\":\"Duskendale\",\"22\":null,\"23\":\"Ruby Ford\",\"24\":\"Harrenhal\",\"25\":\"The Twins\",\"26\":\"Seagard\",\"27\":\"Castle Black\",\"28\":\"Moat Cailin\",\"29\":\"Saltpans\",\"30\":\"Deepwood Motte\",\"31\":\"Shield Islands\",\"32\":\"Ryamsport, Vinetown, Starfish Harbor\",\"33\":\"Storm\\'s End\",\"34\":\"Dragonstone\",\"35\":\"Riverrun\",\"36\":\"Raventree\",\"37\":\"Winterfell\"},\"region\":{\"0\":\"The Westerlands\",\"1\":\"The Riverlands\",\"2\":\"The Riverlands\",\"3\":\"The Riverlands\",\"4\":\"The Riverlands\",\"5\":\"The Riverlands\",\"6\":\"The Riverlands\",\"7\":\"The North\",\"8\":\"The North\",\"9\":\"The North\",\"10\":\"The North\",\"11\":\"The North\",\"12\":\"The North\",\"13\":\"The North\",\"14\":\"The Westerlands\",\"15\":\"The Stormlands\",\"16\":\"The Riverlands\",\"17\":\"The Riverlands\",\"18\":\"The Westerlands\",\"19\":\"The Crownlands\",\"20\":\"The Riverlands\",\"21\":\"The Crownlands\",\"22\":\"The Riverlands\",\"23\":\"The Riverlands\",\"24\":\"The Riverlands\",\"25\":\"The Riverlands\",\"26\":\"The Riverlands\",\"27\":\"Beyond the Wall\",\"28\":\"The North\",\"29\":\"The Riverlands\",\"30\":\"The North\",\"31\":\"The Reach\",\"32\":\"The Reach\",\"33\":\"The Stormlands\",\"34\":\"The Stormlands\",\"35\":\"The Riverlands\",\"36\":\"The Riverlands\",\"37\":\"The North\"},\"note\":{\"0\":null,\"1\":null,\"2\":null,\"3\":null,\"4\":null,\"5\":null,\"6\":null,\"7\":null,\"8\":null,\"9\":\"Greyjoy\\'s troop number based on the Battle of Deepwood Motte, in which Asha had 1000 soldier on 30 longships. That comes out to ~33 per longship. In the Battle of the Stony Shore, Theon has 8 longships, and just we can estimate that he has 8*33 =265 troops.\",\"10\":\"Greyjoy\\'s troop number comes from the 264 estimate to have arrived on the stony shore minus the 20 Theon takes to attack Winterfell. Thus 264-20=244\",\"11\":\"It isn\\'t mentioned how many Stark men are left in Winterfell, other than \\\\\"very few\\\\\".\",\"12\":null,\"13\":\"Since House Bolton betrays the Starks for House Lannister, we code this battle as between these two houses. Greyjoy men, numbering only 20, don\\'t play a major part in the fighting and end up dying anyway.\",\"14\":null,\"15\":null,\"16\":null,\"17\":null,\"18\":null,\"19\":null,\"20\":null,\"21\":null,\"22\":null,\"23\":null,\"24\":null,\"25\":\"This observation refers to the battle against the Stark men, not the attack on the wedding\",\"26\":null,\"27\":null,\"28\":null,\"29\":null,\"30\":null,\"31\":null,\"32\":null,\"33\":null,\"34\":null,\"35\":null,\"36\":null,\"37\":null}}'"
            ]
          },
          "metadata": {
            "tags": []
          },
          "execution_count": 21
        }
      ]
    },
    {
      "metadata": {
        "id": "7uwc8jlwXORL",
        "colab_type": "code",
        "colab": {}
      },
      "cell_type": "code",
      "source": [
        ""
      ],
      "execution_count": 0,
      "outputs": []
    }
  ]
}