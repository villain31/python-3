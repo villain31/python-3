{
  "nbformat": 4,
  "nbformat_minor": 0,
  "metadata": {
    "colab": {
      "name": "Introduction To Neural Networks.ipynb",
      "version": "0.3.2",
      "provenance": [],
      "collapsed_sections": [],
      "include_colab_link": true
    },
    "kernelspec": {
      "name": "python3",
      "display_name": "Python 3"
    },
    "accelerator": "GPU"
  },
  "cells": [
    {
      "cell_type": "markdown",
      "metadata": {
        "id": "view-in-github",
        "colab_type": "text"
      },
      "source": [
        "<a href=\"https://colab.research.google.com/github/villain31/python3/blob/master/Udemy/Introduction_To_Neural_Networks.ipynb\" target=\"_parent\"><img src=\"https://colab.research.google.com/assets/colab-badge.svg\" alt=\"Open In Colab\"/></a>"
      ]
    },
    {
      "metadata": {
        "id": "yPp7e38bUE6-",
        "colab_type": "text"
      },
      "cell_type": "markdown",
      "source": [
        "## Overview\n",
        "https://www.springboard.com/blog/beginners-guide-neural-network-in-python-scikit-learn-0-18/\n",
        "\n",
        "---\n",
        "## Activations (tf.keras.activations)\n",
        "https://www.tensorflow.org/versions/r2.0/api_docs/python/tf/keras/activations\n",
        "\n",
        "---\n",
        "## Cost Functions (tf.losses)\n",
        "https://www.tensorflow.org/versions/r2.0/api_docs/python/tf/losses\n",
        "\n",
        "---\n",
        "## Gradient Desent\n",
        "https://www.tensorflow.org/versions/r2.0/api_docs/python/tf/gradients\n",
        "\n",
        "---\n"
      ]
    },
    {
      "metadata": {
        "id": "0dHNtJLeUGum",
        "colab_type": "code",
        "colab": {}
      },
      "cell_type": "code",
      "source": [
        ""
      ],
      "execution_count": 0,
      "outputs": []
    }
  ]
}