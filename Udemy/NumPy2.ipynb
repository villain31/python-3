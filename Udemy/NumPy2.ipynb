{
  "nbformat": 4,
  "nbformat_minor": 0,
  "metadata": {
    "colab": {
      "name": "NumPy2.ipynb",
      "version": "0.3.2",
      "provenance": [],
      "collapsed_sections": [],
      "include_colab_link": true
    },
    "kernelspec": {
      "name": "python3",
      "display_name": "Python 3"
    }
  },
  "cells": [
    {
      "cell_type": "markdown",
      "metadata": {
        "id": "view-in-github",
        "colab_type": "text"
      },
      "source": [
        "<a href=\"https://colab.research.google.com/github/villain31/python3/blob/master/Udemy/NumPy2.ipynb\" target=\"_parent\"><img src=\"https://colab.research.google.com/assets/colab-badge.svg\" alt=\"Open In Colab\"/></a>"
      ]
    },
    {
      "metadata": {
        "id": "ALKEghig7B_G",
        "colab_type": "text"
      },
      "cell_type": "markdown",
      "source": [
        "# NumPy"
      ]
    },
    {
      "metadata": {
        "id": "Cx-Zk07o7p_O",
        "colab_type": "text"
      },
      "cell_type": "markdown",
      "source": [
        "## What is Numpy?\n",
        "#### Numpy is the core library for scientific computing in Python.\n",
        "#### It provides a hogh-performance multidiementional array object, and tools for working with these arrays.\n",
        "\n"
      ]
    },
    {
      "metadata": {
        "id": "vEWRu3c17yVI",
        "colab_type": "text"
      },
      "cell_type": "markdown",
      "source": [
        ""
      ]
    },
    {
      "metadata": {
        "id": "b93W69I869Wy",
        "colab_type": "code",
        "outputId": "54dd8b0d-b68c-4da4-a030-dc032284f10a",
        "colab": {
          "base_uri": "https://localhost:8080/",
          "height": 34
        }
      },
      "cell_type": "code",
      "source": [
        "import numpy as np\n",
        "np.__version__"
      ],
      "execution_count": 1,
      "outputs": [
        {
          "output_type": "execute_result",
          "data": {
            "text/plain": [
              "'1.14.6'"
            ]
          },
          "metadata": {
            "tags": []
          },
          "execution_count": 1
        }
      ]
    },
    {
      "metadata": {
        "id": "mrf_DtRD_uii",
        "colab_type": "code",
        "outputId": "7c74a5dd-8aa2-43df-e9a8-e8080462fdb6",
        "colab": {
          "base_uri": "https://localhost:8080/",
          "height": 34
        }
      },
      "cell_type": "code",
      "source": [
        "a1 = np.array([3,1,4])\n",
        "a1"
      ],
      "execution_count": 2,
      "outputs": [
        {
          "output_type": "execute_result",
          "data": {
            "text/plain": [
              "array([3, 1, 4])"
            ]
          },
          "metadata": {
            "tags": []
          },
          "execution_count": 2
        }
      ]
    },
    {
      "metadata": {
        "id": "WLoyegVW_91d",
        "colab_type": "code",
        "outputId": "7c195ae6-85bb-422b-d28a-6aa5319b84e8",
        "colab": {
          "base_uri": "https://localhost:8080/",
          "height": 51
        }
      },
      "cell_type": "code",
      "source": [
        "a1 = np.array([(1,2,3),(4,5,6)])\n",
        "a1"
      ],
      "execution_count": 3,
      "outputs": [
        {
          "output_type": "execute_result",
          "data": {
            "text/plain": [
              "array([[1, 2, 3],\n",
              "       [4, 5, 6]])"
            ]
          },
          "metadata": {
            "tags": []
          },
          "execution_count": 3
        }
      ]
    },
    {
      "metadata": {
        "id": "tv6SRG8-BdgL",
        "colab_type": "text"
      },
      "cell_type": "markdown",
      "source": [
        "## Numpy v/s List?\n",
        "* **Take Less Memory**\n",
        "* **Fast**\n",
        "* **Convenient**"
      ]
    },
    {
      "metadata": {
        "id": "nu56HCsyAHsE",
        "colab_type": "code",
        "outputId": "e776e903-40fc-46bf-d9ed-59894401bea3",
        "colab": {
          "base_uri": "https://localhost:8080/",
          "height": 173
        }
      },
      "cell_type": "code",
      "source": [
        "import time, sys\n",
        "\n",
        "# Take Less Time\n",
        "# Normal List\n",
        "list1 = range(100)\n",
        "print(\"Normal List1 : \", list1)\n",
        "\n",
        "# NumPy List\n",
        "nList1 = np.arange(100)\n",
        "print(\"NumPy List1 : \", nList1)\n",
        "\n",
        "print(\"Size of List1 : \", sys.getsizeof(5)*len(list1))\n",
        "print(\"Size of NumPy List1 : \", nList1.size*nList1.itemsize)"
      ],
      "execution_count": 4,
      "outputs": [
        {
          "output_type": "stream",
          "text": [
            "Normal List1 :  range(0, 100)\n",
            "NumPy List1 :  [ 0  1  2  3  4  5  6  7  8  9 10 11 12 13 14 15 16 17 18 19 20 21 22 23\n",
            " 24 25 26 27 28 29 30 31 32 33 34 35 36 37 38 39 40 41 42 43 44 45 46 47\n",
            " 48 49 50 51 52 53 54 55 56 57 58 59 60 61 62 63 64 65 66 67 68 69 70 71\n",
            " 72 73 74 75 76 77 78 79 80 81 82 83 84 85 86 87 88 89 90 91 92 93 94 95\n",
            " 96 97 98 99]\n",
            "Size of List1 :  2800\n",
            "Size of NumPy List1 :  800\n"
          ],
          "name": "stdout"
        }
      ]
    },
    {
      "metadata": {
        "id": "gGG2s8OUy5Wm",
        "colab_type": "code",
        "colab": {
          "base_uri": "https://localhost:8080/",
          "height": 51
        },
        "outputId": "97f8a160-3494-455f-8d41-19730e785330"
      },
      "cell_type": "code",
      "source": [
        "# Faster\n",
        "SIZE = 1000000\n",
        "\n",
        "list2 = range(SIZE)\n",
        "list3 = range(SIZE)\n",
        "\n",
        "nList2 = np.arange(SIZE)\n",
        "nList3 = np.arange(SIZE)\n",
        "\n",
        "# Checking time taken in Adding List\n",
        "start = time.time()\n",
        "result = [(x,y) for x,y in zip(list2, list3)]\n",
        "print(\"Time for Adding Lists (ms): \", (time.time()-start)*1000)\n",
        "\n",
        "# Checking time taken in Adding NumPy List\n",
        "start = time.time()\n",
        "result = nList2+nList3\n",
        "print(\"Time for Adding NumPy Lists (ms): \", (time.time()-start)*1000)"
      ],
      "execution_count": 5,
      "outputs": [
        {
          "output_type": "stream",
          "text": [
            "Time for Adding Lists (ms):  249.50361251831055\n",
            "Time for Adding NumPy Lists (ms):  54.093360900878906\n"
          ],
          "name": "stdout"
        }
      ]
    },
    {
      "metadata": {
        "id": "O836lvPj31Fc",
        "colab_type": "code",
        "colab": {
          "base_uri": "https://localhost:8080/",
          "height": 153
        },
        "outputId": "35e229d3-6f23-44a5-8b8a-0172e9f8cf5e"
      },
      "cell_type": "code",
      "source": [
        "# Convenient\n",
        "nList4 = np.array([(1,2,3),(4,5,6)])\n",
        "\n",
        "print(\"List4 : \\n\", nList4)\n",
        "\n",
        "print(\"Dimensions : \", nList4.ndim, \"D\")\n",
        "\n",
        "print(\"Size on each item: \", nList4.itemsize, \"bytes\")\n",
        "\n",
        "print(\"DataType on item : \", nList4.dtype)\n",
        "\n",
        "print(\"Size nList4 (no' of elements): \", nList4.size)\n",
        "\n",
        "print(\"Shape : \", nList4.shape)"
      ],
      "execution_count": 6,
      "outputs": [
        {
          "output_type": "stream",
          "text": [
            "List4 : \n",
            " [[1 2 3]\n",
            " [4 5 6]]\n",
            "Dimensions :  2 D\n",
            "Size on each item:  8 bytes\n",
            "DataType on item :  int64\n",
            "Size nList4 (no' of elements):  6\n",
            "Shape :  (2, 3)\n"
          ],
          "name": "stdout"
        }
      ]
    },
    {
      "metadata": {
        "id": "BR_bvF-J5-DX",
        "colab_type": "code",
        "colab": {
          "base_uri": "https://localhost:8080/",
          "height": 85
        },
        "outputId": "a63a49a2-bf99-4679-8ef4-de4fe6ed7ded"
      },
      "cell_type": "code",
      "source": [
        "# Operations\n",
        "\n",
        "nList5 = np.array([(1,2,3,4),(5,6,7,8),(7,8,9,10)])\n",
        "print(\"List5 : \\n\", nList5)"
      ],
      "execution_count": 15,
      "outputs": [
        {
          "output_type": "stream",
          "text": [
            "List5 : \n",
            " [[ 1  2  3  4]\n",
            " [ 5  6  7  8]\n",
            " [ 7  8  9 10]]\n"
          ],
          "name": "stdout"
        }
      ]
    },
    {
      "metadata": {
        "id": "s6QVY9a47-ZE",
        "colab_type": "code",
        "colab": {
          "base_uri": "https://localhost:8080/",
          "height": 136
        },
        "outputId": "b658b331-cd4e-4cd1-de27-54d4be2fa26b"
      },
      "cell_type": "code",
      "source": [
        "# Reshape\n",
        "nTemp = nList5.reshape(6,2)\n",
        "print(\"List5 (after reshape) : \\n\", nTemp)"
      ],
      "execution_count": 16,
      "outputs": [
        {
          "output_type": "stream",
          "text": [
            "List5 (after reshape) : \n",
            " [[ 1  2]\n",
            " [ 3  4]\n",
            " [ 5  6]\n",
            " [ 7  8]\n",
            " [ 7  8]\n",
            " [ 9 10]]\n"
          ],
          "name": "stdout"
        }
      ]
    },
    {
      "metadata": {
        "id": "Ex8GMPL67fV8",
        "colab_type": "code",
        "colab": {
          "base_uri": "https://localhost:8080/",
          "height": 204
        },
        "outputId": "7a74b12e-a201-4bda-cc5b-c2b913148016"
      },
      "cell_type": "code",
      "source": [
        "# Slice\n",
        "print(\"Output 1 : \",nList5[2,1])\n",
        "print(\"Output 2 : \",nList5[0:,2])\n",
        "print(\"Output 3 : \",nList5[0:2,2])\n",
        "print(\"Output 4 : \",nList5[:2,2])\n",
        "print(\"Output 5 : \\n\",nList5[1:,:1])\n",
        "print(\"Output 6 : \\n\", nList5[:,:])"
      ],
      "execution_count": 29,
      "outputs": [
        {
          "output_type": "stream",
          "text": [
            "Output 1 :  8\n",
            "Output 2 :  [3 7 9]\n",
            "Output 3 :  [3 7]\n",
            "Output 4 :  [3 7]\n",
            "Output 5 : \n",
            " [[5]\n",
            " [7]]\n",
            "Output 6 : \n",
            " [[ 1  2  3  4]\n",
            " [ 5  6  7  8]\n",
            " [ 7  8  9 10]]\n"
          ],
          "name": "stdout"
        }
      ]
    },
    {
      "metadata": {
        "id": "W9tcxDFI8w_3",
        "colab_type": "code",
        "colab": {
          "base_uri": "https://localhost:8080/",
          "height": 68
        },
        "outputId": "97c58aed-4aeb-44d1-9d52-5e64f391d9be"
      },
      "cell_type": "code",
      "source": [
        "# Linspace\n",
        "nLine = np.linspace(1,3,10)\n",
        "print(\"Evenly spaced nos' b/w 1-3 : \\n\", nLine)"
      ],
      "execution_count": 31,
      "outputs": [
        {
          "output_type": "stream",
          "text": [
            "evenly spaced nos' b/w 1-3 : \n",
            " [1.         1.22222222 1.44444444 1.66666667 1.88888889 2.11111111\n",
            " 2.33333333 2.55555556 2.77777778 3.        ]\n"
          ],
          "name": "stdout"
        }
      ]
    },
    {
      "metadata": {
        "id": "AUIT2SKL-8RO",
        "colab_type": "code",
        "colab": {
          "base_uri": "https://localhost:8080/",
          "height": 85
        },
        "outputId": "db122f5d-8052-461d-be86-29de55674835"
      },
      "cell_type": "code",
      "source": [
        "# Min, Max, Sum, Mean\n",
        "\n",
        "nList7 = np.array([3,1,4])\n",
        "print(\"Min : \", nList7.min())\n",
        "print(\"Max : \", nList7.max())\n",
        "print(\"Sum : \", nList7.sum())\n",
        "print(\"Mean : \", nList7.mean())"
      ],
      "execution_count": 36,
      "outputs": [
        {
          "output_type": "stream",
          "text": [
            "Min :  1\n",
            "Max :  4\n",
            "Sum :  8\n",
            "Mean :  2.6666666666666665\n"
          ],
          "name": "stdout"
        }
      ]
    },
    {
      "metadata": {
        "id": "XTpDoeUy_7rq",
        "colab_type": "code",
        "colab": {
          "base_uri": "https://localhost:8080/",
          "height": 102
        },
        "outputId": "7b133c8c-3455-48cc-9356-6a1d398aa956"
      },
      "cell_type": "code",
      "source": [
        "# Axis\n",
        "print(\"nList4 : \\n\", nList4)\n",
        "print(\"Adding element with axis 0(cols) ([1+4, 2+5, 3+6]) : \", nList4.sum(axis=0))\n",
        "print(\"Adding element with axis 1(rows) ([1+2+3, 4+5+6]) : \", nList4.sum(axis=1))"
      ],
      "execution_count": 42,
      "outputs": [
        {
          "output_type": "stream",
          "text": [
            "nList4 : \n",
            " [[1 2 3]\n",
            " [4 5 6]]\n",
            "Adding element with axis 0(cols) ([1+4, 2+5, 3+6]) :  [5 7 9]\n",
            "Adding element with axis 1(rows) ([1+2+3, 4+5+6]) :  [ 6 15]\n"
          ],
          "name": "stdout"
        }
      ]
    },
    {
      "metadata": {
        "id": "ivktrBR6BzgC",
        "colab_type": "code",
        "colab": {
          "base_uri": "https://localhost:8080/",
          "height": 102
        },
        "outputId": "8fb75955-39b1-46ef-c0f6-a36403c26d00"
      },
      "cell_type": "code",
      "source": [
        "# Square Root and Standard Deviation\n",
        "print(\"SquareRoot : \\n\", np.sqrt(nList4))\n",
        "print(\"\\nStandard Deviation : \", np.std(nList4))"
      ],
      "execution_count": 46,
      "outputs": [
        {
          "output_type": "stream",
          "text": [
            "SquareRoot : \n",
            " [[1.         1.41421356 1.73205081]\n",
            " [2.         2.23606798 2.44948974]]\n",
            "\n",
            "Standard Deviation :  1.707825127659933\n"
          ],
          "name": "stdout"
        }
      ]
    },
    {
      "metadata": {
        "id": "3b9mXXYHDOIi",
        "colab_type": "code",
        "colab": {
          "base_uri": "https://localhost:8080/",
          "height": 510
        },
        "outputId": "44d2697d-c744-47a3-88f0-700ecb3b25f3"
      },
      "cell_type": "code",
      "source": [
        "# Addition, Subtraction, Multiplication, Division, Stacking, Ravel\n",
        "# (Matrix)\n",
        "print(\"nList4 : \\n\", nList4)\n",
        "\n",
        "nList8 = np.array([(10,11,12),(13,14,15)])\n",
        "print(\"nList8 : \\n\", nList8)\n",
        "\n",
        "print(\"\\nAddition : \\n\", nList4+nList8)\n",
        "# Note: in case of normal list, '+' will concatinate\n",
        "print(\"Subtraction : \\n\", nList4-nList8)\n",
        "print(\"Multiplication : \\n\", nList4*nList8)\n",
        "print(\"Division : \\n\", nList4/nList8)\n",
        "\n",
        "# Stacking (Concatination)\n",
        "print(\"Vertical Stacking : \\n\", np.vstack((nList4, nList8)))\n",
        "print(\"Horizontal Stacking : \\n\", np.hstack((nList4, nList8)))\n",
        "\n",
        "# Reval (into one column)\n",
        "print(\"Reval of nList4: \", nList4.ravel())\n",
        "print(\"Reval of nList8: \", nList8.ravel())"
      ],
      "execution_count": 55,
      "outputs": [
        {
          "output_type": "stream",
          "text": [
            "nList4 : \n",
            " [[1 2 3]\n",
            " [4 5 6]]\n",
            "nList8 : \n",
            " [[10 11 12]\n",
            " [13 14 15]]\n",
            "\n",
            "Addition : \n",
            " [[11 13 15]\n",
            " [17 19 21]]\n",
            "Subtraction : \n",
            " [[-9 -9 -9]\n",
            " [-9 -9 -9]]\n",
            "Multiplication : \n",
            " [[10 22 36]\n",
            " [52 70 90]]\n",
            "Division : \n",
            " [[0.1        0.18181818 0.25      ]\n",
            " [0.30769231 0.35714286 0.4       ]]\n",
            "Vertical Stacking : \n",
            " [[ 1  2  3]\n",
            " [ 4  5  6]\n",
            " [10 11 12]\n",
            " [13 14 15]]\n",
            "Horizontal Stacking : \n",
            " [[ 1  2  3 10 11 12]\n",
            " [ 4  5  6 13 14 15]]\n",
            "Reval of nList4:  [1 2 3 4 5 6]\n",
            "Reval of nList8:  [10 11 12 13 14 15]\n"
          ],
          "name": "stdout"
        }
      ]
    },
    {
      "metadata": {
        "id": "Mfp7iULFE7Vt",
        "colab_type": "code",
        "colab": {
          "base_uri": "https://localhost:8080/",
          "height": 826
        },
        "outputId": "0b274ca4-a93b-4748-b686-df9cd766730f"
      },
      "cell_type": "code",
      "source": [
        "# Special Functions\n",
        "# Sin, Cos, Tan\n",
        "\n",
        "# To plot graphs we are using MatPlotLib package\n",
        "import matplotlib.pyplot as plt\n",
        "plt.style.use('dark_background')\n",
        "\n",
        "xAxis = np.arange(0, 3*np.pi, 0.1)\n",
        "yAxis = np.sin(xAxis)\n",
        "plt.figure()\n",
        "plt.title(\"SIN\")\n",
        "plt.plot(xAxis, yAxis)\n",
        "\n",
        "plt.figure()\n",
        "plt.title(\"COS\")\n",
        "yAxis = np.cos(xAxis)\n",
        "plt.plot(xAxis, yAxis)\n",
        "\n",
        "plt.figure()\n",
        "plt.title(\"TAN\")\n",
        "yAxis = np.tan(xAxis)\n",
        "plt.plot(xAxis, yAxis)"
      ],
      "execution_count": 64,
      "outputs": [
        {
          "output_type": "execute_result",
          "data": {
            "text/plain": [
              "[<matplotlib.lines.Line2D at 0x7faee497b780>]"
            ]
          },
          "metadata": {
            "tags": []
          },
          "execution_count": 64
        },
        {
          "output_type": "display_data",
          "data": {
            "image/png": "[encoded data removed]",
            "text/plain": [
              "<Figure size 432x288 with 1 Axes>"
            ]
          },
          "metadata": {
            "tags": []
          }
        },
        {
          "output_type": "display_data",
          "data": {
            "image/png": "[encoded data removed]",
            "text/plain": [
              "<Figure size 432x288 with 1 Axes>"
            ]
          },
          "metadata": {
            "tags": []
          }
        },
        {
          "output_type": "display_data",
          "data": {
            "image/png": "[encoded data removed]",
            "text/plain": [
              "<Figure size 432x288 with 1 Axes>"
            ]
          },
          "metadata": {
            "tags": []
          }
        }
      ]
    },
    {
      "metadata": {
        "id": "0DBBzjP3rQQX",
        "colab_type": "code",
        "colab": {
          "base_uri": "https://localhost:8080/",
          "height": 68
        },
        "outputId": "2770652a-fc49-4177-d716-9269ab7ad8c7"
      },
      "cell_type": "code",
      "source": [
        "# Exponential, Logarithmic \n",
        "ar = np.array([1,2,3])\n",
        "print(\"e^2 of ar : \", np.exp(ar))\n",
        "\n",
        "print(\"Natural Log of ar : \", np.log(ar))\n",
        "\n",
        "print(\"Log (base10) of ar : \", np.log10(ar))"
      ],
      "execution_count": 68,
      "outputs": [
        {
          "output_type": "stream",
          "text": [
            "e^2 of ar :  [ 2.71828183  7.3890561  20.08553692]\n",
            "Natural Log of ar :  [0.         0.69314718 1.09861229]\n",
            "Log (base10) of ar :  [0.         0.30103    0.47712125]\n"
          ],
          "name": "stdout"
        }
      ]
    },
    {
      "metadata": {
        "id": "xt1xD-4Fss6q",
        "colab_type": "code",
        "colab": {}
      },
      "cell_type": "code",
      "source": [
        ""
      ],
      "execution_count": 0,
      "outputs": []
    }
  ]
}