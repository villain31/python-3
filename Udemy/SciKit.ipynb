{
  "nbformat": 4,
  "nbformat_minor": 0,
  "metadata": {
    "colab": {
      "name": "SciKit.ipynb",
      "version": "0.3.2",
      "provenance": [],
      "include_colab_link": true
    },
    "kernelspec": {
      "name": "python3",
      "display_name": "Python 3"
    },
    "accelerator": "GPU"
  },
  "cells": [
    {
      "cell_type": "markdown",
      "metadata": {
        "id": "view-in-github",
        "colab_type": "text"
      },
      "source": [
        "<a href=\"https://colab.research.google.com/github/villain31/python3/blob/master/SciKit.ipynb\" target=\"_parent\"><img src=\"https://colab.research.google.com/assets/colab-badge.svg\" alt=\"Open In Colab\"/></a>"
      ]
    },
    {
      "metadata": {
        "id": "NtwjbFE_goQv",
        "colab_type": "code",
        "colab": {}
      },
      "cell_type": "code",
      "source": [
        "import numpy as np\n",
        "from sklearn.preprocessing import MinMaxScaler"
      ],
      "execution_count": 0,
      "outputs": []
    },
    {
      "metadata": {
        "id": "nQBUdgcuhIwc",
        "colab_type": "code",
        "colab": {}
      },
      "cell_type": "code",
      "source": [
        "data = np.random.randint(0,100,(10,2))"
      ],
      "execution_count": 0,
      "outputs": []
    },
    {
      "metadata": {
        "id": "jm6TTeg9iY1J",
        "colab_type": "code",
        "colab": {
          "base_uri": "https://localhost:8080/",
          "height": 187
        },
        "outputId": "43f56933-ad55-4b82-c44a-97971f9869c5"
      },
      "cell_type": "code",
      "source": [
        "data"
      ],
      "execution_count": 3,
      "outputs": [
        {
          "output_type": "execute_result",
          "data": {
            "text/plain": [
              "array([[27, 29],\n",
              "       [49, 46],\n",
              "       [ 0, 93],\n",
              "       [47, 40],\n",
              "       [67, 95],\n",
              "       [94, 82],\n",
              "       [71, 94],\n",
              "       [33, 72],\n",
              "       [22, 13],\n",
              "       [53, 79]])"
            ]
          },
          "metadata": {
            "tags": []
          },
          "execution_count": 3
        }
      ]
    },
    {
      "metadata": {
        "id": "-9TbxeTyiaaJ",
        "colab_type": "code",
        "colab": {}
      },
      "cell_type": "code",
      "source": [
        "scaler_model = MinMaxScaler()"
      ],
      "execution_count": 0,
      "outputs": []
    },
    {
      "metadata": {
        "id": "W3ZNU-VtineY",
        "colab_type": "code",
        "colab": {
          "base_uri": "https://localhost:8080/",
          "height": 34
        },
        "outputId": "b955b902-8208-4f7a-b079-d3349b7be032"
      },
      "cell_type": "code",
      "source": [
        "type(scaler_model)"
      ],
      "execution_count": 5,
      "outputs": [
        {
          "output_type": "execute_result",
          "data": {
            "text/plain": [
              "sklearn.preprocessing.data.MinMaxScaler"
            ]
          },
          "metadata": {
            "tags": []
          },
          "execution_count": 5
        }
      ]
    },
    {
      "metadata": {
        "id": "WnEMwGXaiqDY",
        "colab_type": "code",
        "colab": {
          "base_uri": "https://localhost:8080/",
          "height": 88
        },
        "outputId": "f6eed3b3-f9c2-47fb-e0e9-7447e11566fd"
      },
      "cell_type": "code",
      "source": [
        "scaler_model.fit(data)"
      ],
      "execution_count": 6,
      "outputs": [
        {
          "output_type": "stream",
          "text": [
            "/usr/local/lib/python3.6/dist-packages/sklearn/utils/validation.py:595: DataConversionWarning: Data with input dtype int64 was converted to float64 by MinMaxScaler.\n",
            "  warnings.warn(msg, DataConversionWarning)\n"
          ],
          "name": "stderr"
        },
        {
          "output_type": "execute_result",
          "data": {
            "text/plain": [
              "MinMaxScaler(copy=True, feature_range=(0, 1))"
            ]
          },
          "metadata": {
            "tags": []
          },
          "execution_count": 6
        }
      ]
    },
    {
      "metadata": {
        "id": "Q1wi_aZbizt6",
        "colab_type": "code",
        "colab": {
          "base_uri": "https://localhost:8080/",
          "height": 187
        },
        "outputId": "7fbd4217-3af9-4cb4-a3c4-1312a0ab3e4e"
      },
      "cell_type": "code",
      "source": [
        "scaler_model.transform(data)"
      ],
      "execution_count": 7,
      "outputs": [
        {
          "output_type": "execute_result",
          "data": {
            "text/plain": [
              "array([[0.28723404, 0.19512195],\n",
              "       [0.5212766 , 0.40243902],\n",
              "       [0.        , 0.97560976],\n",
              "       [0.5       , 0.32926829],\n",
              "       [0.71276596, 1.        ],\n",
              "       [1.        , 0.84146341],\n",
              "       [0.75531915, 0.98780488],\n",
              "       [0.35106383, 0.7195122 ],\n",
              "       [0.23404255, 0.        ],\n",
              "       [0.56382979, 0.80487805]])"
            ]
          },
          "metadata": {
            "tags": []
          },
          "execution_count": 7
        }
      ]
    },
    {
      "metadata": {
        "id": "D9UTU4FSi69a",
        "colab_type": "code",
        "colab": {
          "base_uri": "https://localhost:8080/",
          "height": 241
        },
        "outputId": "dc2dc6f5-7bd7-4db8-d0c7-588d0b36bac3"
      },
      "cell_type": "code",
      "source": [
        "scaler_model.fit_transform(data)"
      ],
      "execution_count": 8,
      "outputs": [
        {
          "output_type": "stream",
          "text": [
            "/usr/local/lib/python3.6/dist-packages/sklearn/utils/validation.py:595: DataConversionWarning: Data with input dtype int64 was converted to float64 by MinMaxScaler.\n",
            "  warnings.warn(msg, DataConversionWarning)\n"
          ],
          "name": "stderr"
        },
        {
          "output_type": "execute_result",
          "data": {
            "text/plain": [
              "array([[0.28723404, 0.19512195],\n",
              "       [0.5212766 , 0.40243902],\n",
              "       [0.        , 0.97560976],\n",
              "       [0.5       , 0.32926829],\n",
              "       [0.71276596, 1.        ],\n",
              "       [1.        , 0.84146341],\n",
              "       [0.75531915, 0.98780488],\n",
              "       [0.35106383, 0.7195122 ],\n",
              "       [0.23404255, 0.        ],\n",
              "       [0.56382979, 0.80487805]])"
            ]
          },
          "metadata": {
            "tags": []
          },
          "execution_count": 8
        }
      ]
    },
    {
      "metadata": {
        "id": "clIsGdXujMB7",
        "colab_type": "code",
        "colab": {}
      },
      "cell_type": "code",
      "source": [
        "import pandas as pd"
      ],
      "execution_count": 0,
      "outputs": []
    },
    {
      "metadata": {
        "id": "oJtKsmTQjPFq",
        "colab_type": "code",
        "colab": {}
      },
      "cell_type": "code",
      "source": [
        "data = np.random.randint(0,101,(50,4))"
      ],
      "execution_count": 0,
      "outputs": []
    },
    {
      "metadata": {
        "id": "kmF5M0qmjWn6",
        "colab_type": "code",
        "colab": {
          "base_uri": "https://localhost:8080/",
          "height": 867
        },
        "outputId": "f372aa2e-cf42-4e51-9fae-f9b22ee0908f"
      },
      "cell_type": "code",
      "source": [
        "data"
      ],
      "execution_count": 11,
      "outputs": [
        {
          "output_type": "execute_result",
          "data": {
            "text/plain": [
              "array([[ 13,  73,   8,  94],\n",
              "       [ 48,  29,  77,  53],\n",
              "       [ 77,   4,  56,  44],\n",
              "       [  4,   6,  92,  52],\n",
              "       [ 40,  27,  49,  45],\n",
              "       [ 38,  63,  37,  42],\n",
              "       [100,  15,  75,   3],\n",
              "       [ 63, 100,  53,   4],\n",
              "       [ 42,  52,  57,  53],\n",
              "       [ 86,  58,  49,  52],\n",
              "       [ 35,  92,  36,  79],\n",
              "       [ 68,  68,  36,   0],\n",
              "       [  2,  45,  92,  21],\n",
              "       [ 30,  89,  58,  53],\n",
              "       [  9,  52,  26,  14],\n",
              "       [ 55,  58,  37,  48],\n",
              "       [ 87,  10,  54,  56],\n",
              "       [ 65,  27,  18,  42],\n",
              "       [ 69,  51,  97,  32],\n",
              "       [ 78,  66, 100,  41],\n",
              "       [ 56,  67,  25,  57],\n",
              "       [ 62,  45,  60,   3],\n",
              "       [  7,  48,  14,  58],\n",
              "       [ 35,  88,  48,  77],\n",
              "       [ 28,  95,  12,  93],\n",
              "       [ 22,  14,  77,  68],\n",
              "       [ 28,  32,   7,  41],\n",
              "       [ 82,  53,  11,  46],\n",
              "       [ 72,  77,  16,  48],\n",
              "       [ 94,  21,  28,  72],\n",
              "       [ 67,  91,  20,  41],\n",
              "       [ 22,  45,  87,   7],\n",
              "       [ 59,  22,  41,  81],\n",
              "       [ 76,  22,  64,  86],\n",
              "       [ 56,   3,  79,  26],\n",
              "       [ 46,  46,  36,  97],\n",
              "       [ 50,  17,   8,  19],\n",
              "       [ 18,  48,  63,  18],\n",
              "       [ 73,  93,  88,  61],\n",
              "       [ 33,  51,  88,  56],\n",
              "       [ 76,  35,  15,  94],\n",
              "       [ 12,  98, 100,  73],\n",
              "       [ 58,   2,  20,  34],\n",
              "       [ 24,  23,  89,  33],\n",
              "       [ 72,  90,  98,  41],\n",
              "       [ 60,  76,  12,  58],\n",
              "       [ 62,  71,  84,  78],\n",
              "       [ 48,  89,  89,  49],\n",
              "       [ 80,  90,  14,  17],\n",
              "       [ 50,  48,  81,  35]])"
            ]
          },
          "metadata": {
            "tags": []
          },
          "execution_count": 11
        }
      ]
    },
    {
      "metadata": {
        "id": "eIs5cHePjXv6",
        "colab_type": "code",
        "colab": {}
      },
      "cell_type": "code",
      "source": [
        "df = pd.DataFrame(data=data, columns=['f1','f2','f3','lable'])"
      ],
      "execution_count": 0,
      "outputs": []
    },
    {
      "metadata": {
        "id": "exRk0nZsjd2P",
        "colab_type": "code",
        "colab": {
          "base_uri": "https://localhost:8080/",
          "height": 1599
        },
        "outputId": "512f7975-2d08-49a2-fd0d-7f3bcc933384"
      },
      "cell_type": "code",
      "source": [
        "df"
      ],
      "execution_count": 13,
      "outputs": [
        {
          "output_type": "execute_result",
          "data": {
            "text/html": [
              "<div>\n",
              "<style scoped>\n",
              "    .dataframe tbody tr th:only-of-type {\n",
              "        vertical-align: middle;\n",
              "    }\n",
              "\n",
              "    .dataframe tbody tr th {\n",
              "        vertical-align: top;\n",
              "    }\n",
              "\n",
              "    .dataframe thead th {\n",
              "        text-align: right;\n",
              "    }\n",
              "</style>\n",
              "<table border=\"1\" class=\"dataframe\">\n",
              "  <thead>\n",
              "    <tr style=\"text-align: right;\">\n",
              "      <th></th>\n",
              "      <th>f1</th>\n",
              "      <th>f2</th>\n",
              "      <th>f3</th>\n",
              "      <th>lable</th>\n",
              "    </tr>\n",
              "  </thead>\n",
              "  <tbody>\n",
              "    <tr>\n",
              "      <th>0</th>\n",
              "      <td>13</td>\n",
              "      <td>73</td>\n",
              "      <td>8</td>\n",
              "      <td>94</td>\n",
              "    </tr>\n",
              "    <tr>\n",
              "      <th>1</th>\n",
              "      <td>48</td>\n",
              "      <td>29</td>\n",
              "      <td>77</td>\n",
              "      <td>53</td>\n",
              "    </tr>\n",
              "    <tr>\n",
              "      <th>2</th>\n",
              "      <td>77</td>\n",
              "      <td>4</td>\n",
              "      <td>56</td>\n",
              "      <td>44</td>\n",
              "    </tr>\n",
              "    <tr>\n",
              "      <th>3</th>\n",
              "      <td>4</td>\n",
              "      <td>6</td>\n",
              "      <td>92</td>\n",
              "      <td>52</td>\n",
              "    </tr>\n",
              "    <tr>\n",
              "      <th>4</th>\n",
              "      <td>40</td>\n",
              "      <td>27</td>\n",
              "      <td>49</td>\n",
              "      <td>45</td>\n",
              "    </tr>\n",
              "    <tr>\n",
              "      <th>5</th>\n",
              "      <td>38</td>\n",
              "      <td>63</td>\n",
              "      <td>37</td>\n",
              "      <td>42</td>\n",
              "    </tr>\n",
              "    <tr>\n",
              "      <th>6</th>\n",
              "      <td>100</td>\n",
              "      <td>15</td>\n",
              "      <td>75</td>\n",
              "      <td>3</td>\n",
              "    </tr>\n",
              "    <tr>\n",
              "      <th>7</th>\n",
              "      <td>63</td>\n",
              "      <td>100</td>\n",
              "      <td>53</td>\n",
              "      <td>4</td>\n",
              "    </tr>\n",
              "    <tr>\n",
              "      <th>8</th>\n",
              "      <td>42</td>\n",
              "      <td>52</td>\n",
              "      <td>57</td>\n",
              "      <td>53</td>\n",
              "    </tr>\n",
              "    <tr>\n",
              "      <th>9</th>\n",
              "      <td>86</td>\n",
              "      <td>58</td>\n",
              "      <td>49</td>\n",
              "      <td>52</td>\n",
              "    </tr>\n",
              "    <tr>\n",
              "      <th>10</th>\n",
              "      <td>35</td>\n",
              "      <td>92</td>\n",
              "      <td>36</td>\n",
              "      <td>79</td>\n",
              "    </tr>\n",
              "    <tr>\n",
              "      <th>11</th>\n",
              "      <td>68</td>\n",
              "      <td>68</td>\n",
              "      <td>36</td>\n",
              "      <td>0</td>\n",
              "    </tr>\n",
              "    <tr>\n",
              "      <th>12</th>\n",
              "      <td>2</td>\n",
              "      <td>45</td>\n",
              "      <td>92</td>\n",
              "      <td>21</td>\n",
              "    </tr>\n",
              "    <tr>\n",
              "      <th>13</th>\n",
              "      <td>30</td>\n",
              "      <td>89</td>\n",
              "      <td>58</td>\n",
              "      <td>53</td>\n",
              "    </tr>\n",
              "    <tr>\n",
              "      <th>14</th>\n",
              "      <td>9</td>\n",
              "      <td>52</td>\n",
              "      <td>26</td>\n",
              "      <td>14</td>\n",
              "    </tr>\n",
              "    <tr>\n",
              "      <th>15</th>\n",
              "      <td>55</td>\n",
              "      <td>58</td>\n",
              "      <td>37</td>\n",
              "      <td>48</td>\n",
              "    </tr>\n",
              "    <tr>\n",
              "      <th>16</th>\n",
              "      <td>87</td>\n",
              "      <td>10</td>\n",
              "      <td>54</td>\n",
              "      <td>56</td>\n",
              "    </tr>\n",
              "    <tr>\n",
              "      <th>17</th>\n",
              "      <td>65</td>\n",
              "      <td>27</td>\n",
              "      <td>18</td>\n",
              "      <td>42</td>\n",
              "    </tr>\n",
              "    <tr>\n",
              "      <th>18</th>\n",
              "      <td>69</td>\n",
              "      <td>51</td>\n",
              "      <td>97</td>\n",
              "      <td>32</td>\n",
              "    </tr>\n",
              "    <tr>\n",
              "      <th>19</th>\n",
              "      <td>78</td>\n",
              "      <td>66</td>\n",
              "      <td>100</td>\n",
              "      <td>41</td>\n",
              "    </tr>\n",
              "    <tr>\n",
              "      <th>20</th>\n",
              "      <td>56</td>\n",
              "      <td>67</td>\n",
              "      <td>25</td>\n",
              "      <td>57</td>\n",
              "    </tr>\n",
              "    <tr>\n",
              "      <th>21</th>\n",
              "      <td>62</td>\n",
              "      <td>45</td>\n",
              "      <td>60</td>\n",
              "      <td>3</td>\n",
              "    </tr>\n",
              "    <tr>\n",
              "      <th>22</th>\n",
              "      <td>7</td>\n",
              "      <td>48</td>\n",
              "      <td>14</td>\n",
              "      <td>58</td>\n",
              "    </tr>\n",
              "    <tr>\n",
              "      <th>23</th>\n",
              "      <td>35</td>\n",
              "      <td>88</td>\n",
              "      <td>48</td>\n",
              "      <td>77</td>\n",
              "    </tr>\n",
              "    <tr>\n",
              "      <th>24</th>\n",
              "      <td>28</td>\n",
              "      <td>95</td>\n",
              "      <td>12</td>\n",
              "      <td>93</td>\n",
              "    </tr>\n",
              "    <tr>\n",
              "      <th>25</th>\n",
              "      <td>22</td>\n",
              "      <td>14</td>\n",
              "      <td>77</td>\n",
              "      <td>68</td>\n",
              "    </tr>\n",
              "    <tr>\n",
              "      <th>26</th>\n",
              "      <td>28</td>\n",
              "      <td>32</td>\n",
              "      <td>7</td>\n",
              "      <td>41</td>\n",
              "    </tr>\n",
              "    <tr>\n",
              "      <th>27</th>\n",
              "      <td>82</td>\n",
              "      <td>53</td>\n",
              "      <td>11</td>\n",
              "      <td>46</td>\n",
              "    </tr>\n",
              "    <tr>\n",
              "      <th>28</th>\n",
              "      <td>72</td>\n",
              "      <td>77</td>\n",
              "      <td>16</td>\n",
              "      <td>48</td>\n",
              "    </tr>\n",
              "    <tr>\n",
              "      <th>29</th>\n",
              "      <td>94</td>\n",
              "      <td>21</td>\n",
              "      <td>28</td>\n",
              "      <td>72</td>\n",
              "    </tr>\n",
              "    <tr>\n",
              "      <th>30</th>\n",
              "      <td>67</td>\n",
              "      <td>91</td>\n",
              "      <td>20</td>\n",
              "      <td>41</td>\n",
              "    </tr>\n",
              "    <tr>\n",
              "      <th>31</th>\n",
              "      <td>22</td>\n",
              "      <td>45</td>\n",
              "      <td>87</td>\n",
              "      <td>7</td>\n",
              "    </tr>\n",
              "    <tr>\n",
              "      <th>32</th>\n",
              "      <td>59</td>\n",
              "      <td>22</td>\n",
              "      <td>41</td>\n",
              "      <td>81</td>\n",
              "    </tr>\n",
              "    <tr>\n",
              "      <th>33</th>\n",
              "      <td>76</td>\n",
              "      <td>22</td>\n",
              "      <td>64</td>\n",
              "      <td>86</td>\n",
              "    </tr>\n",
              "    <tr>\n",
              "      <th>34</th>\n",
              "      <td>56</td>\n",
              "      <td>3</td>\n",
              "      <td>79</td>\n",
              "      <td>26</td>\n",
              "    </tr>\n",
              "    <tr>\n",
              "      <th>35</th>\n",
              "      <td>46</td>\n",
              "      <td>46</td>\n",
              "      <td>36</td>\n",
              "      <td>97</td>\n",
              "    </tr>\n",
              "    <tr>\n",
              "      <th>36</th>\n",
              "      <td>50</td>\n",
              "      <td>17</td>\n",
              "      <td>8</td>\n",
              "      <td>19</td>\n",
              "    </tr>\n",
              "    <tr>\n",
              "      <th>37</th>\n",
              "      <td>18</td>\n",
              "      <td>48</td>\n",
              "      <td>63</td>\n",
              "      <td>18</td>\n",
              "    </tr>\n",
              "    <tr>\n",
              "      <th>38</th>\n",
              "      <td>73</td>\n",
              "      <td>93</td>\n",
              "      <td>88</td>\n",
              "      <td>61</td>\n",
              "    </tr>\n",
              "    <tr>\n",
              "      <th>39</th>\n",
              "      <td>33</td>\n",
              "      <td>51</td>\n",
              "      <td>88</td>\n",
              "      <td>56</td>\n",
              "    </tr>\n",
              "    <tr>\n",
              "      <th>40</th>\n",
              "      <td>76</td>\n",
              "      <td>35</td>\n",
              "      <td>15</td>\n",
              "      <td>94</td>\n",
              "    </tr>\n",
              "    <tr>\n",
              "      <th>41</th>\n",
              "      <td>12</td>\n",
              "      <td>98</td>\n",
              "      <td>100</td>\n",
              "      <td>73</td>\n",
              "    </tr>\n",
              "    <tr>\n",
              "      <th>42</th>\n",
              "      <td>58</td>\n",
              "      <td>2</td>\n",
              "      <td>20</td>\n",
              "      <td>34</td>\n",
              "    </tr>\n",
              "    <tr>\n",
              "      <th>43</th>\n",
              "      <td>24</td>\n",
              "      <td>23</td>\n",
              "      <td>89</td>\n",
              "      <td>33</td>\n",
              "    </tr>\n",
              "    <tr>\n",
              "      <th>44</th>\n",
              "      <td>72</td>\n",
              "      <td>90</td>\n",
              "      <td>98</td>\n",
              "      <td>41</td>\n",
              "    </tr>\n",
              "    <tr>\n",
              "      <th>45</th>\n",
              "      <td>60</td>\n",
              "      <td>76</td>\n",
              "      <td>12</td>\n",
              "      <td>58</td>\n",
              "    </tr>\n",
              "    <tr>\n",
              "      <th>46</th>\n",
              "      <td>62</td>\n",
              "      <td>71</td>\n",
              "      <td>84</td>\n",
              "      <td>78</td>\n",
              "    </tr>\n",
              "    <tr>\n",
              "      <th>47</th>\n",
              "      <td>48</td>\n",
              "      <td>89</td>\n",
              "      <td>89</td>\n",
              "      <td>49</td>\n",
              "    </tr>\n",
              "    <tr>\n",
              "      <th>48</th>\n",
              "      <td>80</td>\n",
              "      <td>90</td>\n",
              "      <td>14</td>\n",
              "      <td>17</td>\n",
              "    </tr>\n",
              "    <tr>\n",
              "      <th>49</th>\n",
              "      <td>50</td>\n",
              "      <td>48</td>\n",
              "      <td>81</td>\n",
              "      <td>35</td>\n",
              "    </tr>\n",
              "  </tbody>\n",
              "</table>\n",
              "</div>"
            ],
            "text/plain": [
              "     f1   f2   f3  lable\n",
              "0    13   73    8     94\n",
              "1    48   29   77     53\n",
              "2    77    4   56     44\n",
              "3     4    6   92     52\n",
              "4    40   27   49     45\n",
              "5    38   63   37     42\n",
              "6   100   15   75      3\n",
              "7    63  100   53      4\n",
              "8    42   52   57     53\n",
              "9    86   58   49     52\n",
              "10   35   92   36     79\n",
              "11   68   68   36      0\n",
              "12    2   45   92     21\n",
              "13   30   89   58     53\n",
              "14    9   52   26     14\n",
              "15   55   58   37     48\n",
              "16   87   10   54     56\n",
              "17   65   27   18     42\n",
              "18   69   51   97     32\n",
              "19   78   66  100     41\n",
              "20   56   67   25     57\n",
              "21   62   45   60      3\n",
              "22    7   48   14     58\n",
              "23   35   88   48     77\n",
              "24   28   95   12     93\n",
              "25   22   14   77     68\n",
              "26   28   32    7     41\n",
              "27   82   53   11     46\n",
              "28   72   77   16     48\n",
              "29   94   21   28     72\n",
              "30   67   91   20     41\n",
              "31   22   45   87      7\n",
              "32   59   22   41     81\n",
              "33   76   22   64     86\n",
              "34   56    3   79     26\n",
              "35   46   46   36     97\n",
              "36   50   17    8     19\n",
              "37   18   48   63     18\n",
              "38   73   93   88     61\n",
              "39   33   51   88     56\n",
              "40   76   35   15     94\n",
              "41   12   98  100     73\n",
              "42   58    2   20     34\n",
              "43   24   23   89     33\n",
              "44   72   90   98     41\n",
              "45   60   76   12     58\n",
              "46   62   71   84     78\n",
              "47   48   89   89     49\n",
              "48   80   90   14     17\n",
              "49   50   48   81     35"
            ]
          },
          "metadata": {
            "tags": []
          },
          "execution_count": 13
        }
      ]
    },
    {
      "metadata": {
        "id": "L8Zx5KZmjeqv",
        "colab_type": "code",
        "colab": {}
      },
      "cell_type": "code",
      "source": [
        "X = df[['f1','f2','f3']]\n",
        "y = df['lable']"
      ],
      "execution_count": 0,
      "outputs": []
    },
    {
      "metadata": {
        "id": "5064gITBj8Qi",
        "colab_type": "code",
        "colab": {}
      },
      "cell_type": "code",
      "source": [
        "from sklearn.model_selection import train_test_split"
      ],
      "execution_count": 0,
      "outputs": []
    },
    {
      "metadata": {
        "id": "-A8GKYS4kEa6",
        "colab_type": "code",
        "colab": {}
      },
      "cell_type": "code",
      "source": [
        "X_train, X_test, y_train, y_test = train_test_split(X, y, test_size=0.3, random_state=101)"
      ],
      "execution_count": 0,
      "outputs": []
    },
    {
      "metadata": {
        "id": "uUd-IGeokt2u",
        "colab_type": "code",
        "colab": {
          "base_uri": "https://localhost:8080/",
          "height": 34
        },
        "outputId": "d8882d22-16f4-4e68-aab7-3d6285a17e71"
      },
      "cell_type": "code",
      "source": [
        "X_train.shape"
      ],
      "execution_count": 17,
      "outputs": [
        {
          "output_type": "execute_result",
          "data": {
            "text/plain": [
              "(35, 3)"
            ]
          },
          "metadata": {
            "tags": []
          },
          "execution_count": 17
        }
      ]
    },
    {
      "metadata": {
        "id": "F8nnOlq-k0e_",
        "colab_type": "code",
        "colab": {
          "base_uri": "https://localhost:8080/",
          "height": 34
        },
        "outputId": "8e279398-66d7-4904-c42a-121c6fcf277c"
      },
      "cell_type": "code",
      "source": [
        "X_test.shape"
      ],
      "execution_count": 18,
      "outputs": [
        {
          "output_type": "execute_result",
          "data": {
            "text/plain": [
              "(15, 3)"
            ]
          },
          "metadata": {
            "tags": []
          },
          "execution_count": 18
        }
      ]
    }
  ]
}
