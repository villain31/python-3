{
  "nbformat": 4,
  "nbformat_minor": 0,
  "metadata": {
    "colab": {
      "name": "Manual Neural Network.ipynb",
      "version": "0.3.2",
      "provenance": [],
      "include_colab_link": true
    },
    "kernelspec": {
      "name": "python3",
      "display_name": "Python 3"
    }
  },
  "cells": [
    {
      "cell_type": "markdown",
      "metadata": {
        "id": "view-in-github",
        "colab_type": "text"
      },
      "source": [
        "<a href=\"https://colab.research.google.com/github/villain31/python3/blob/master/Udemy/Manual_Neural_Network.ipynb\" target=\"_parent\"><img src=\"https://colab.research.google.com/assets/colab-badge.svg\" alt=\"Open In Colab\"/></a>"
      ]
    },
    {
      "metadata": {
        "id": "-RfLUDs58SSd",
        "colab_type": "text"
      },
      "cell_type": "markdown",
      "source": [
        "# Manual Neural Network"
      ]
    },
    {
      "metadata": {
        "id": "VR6Iq-KIU5Em",
        "colab_type": "text"
      },
      "cell_type": "markdown",
      "source": [
        "## Operation"
      ]
    },
    {
      "metadata": {
        "id": "IRP3QzdY8WtN",
        "colab_type": "code",
        "colab": {}
      },
      "cell_type": "code",
      "source": [
        "class Operation():\n",
        "  \n",
        "  def __init__(self, input_nodes=[]):\n",
        "    self.input_nodes = input_nodes\n",
        "    self.output_nodes = []\n",
        "    \n",
        "    for node in input_nodes:\n",
        "      node.output_nodes.append(self)\n",
        "    \n",
        "    \n",
        "  def compute(self):\n",
        "    pass"
      ],
      "execution_count": 0,
      "outputs": []
    },
    {
      "metadata": {
        "id": "Jv7Bs0EFVh3M",
        "colab_type": "code",
        "colab": {}
      },
      "cell_type": "code",
      "source": [
        "class add(Operation):\n",
        "  \n",
        "  def __init__(self, x, y):\n",
        "    super().__init__([x,y])\n",
        "  \n",
        "  def compute(self, x_var, y_var):\n",
        "    self.inputs = [x_var, y_var]\n",
        "    return x_var + y_var"
      ],
      "execution_count": 0,
      "outputs": []
    },
    {
      "metadata": {
        "id": "V9Qa0tz6Xrqw",
        "colab_type": "code",
        "colab": {}
      },
      "cell_type": "code",
      "source": [
        "class mul(Operation):\n",
        "  \n",
        "  def __init__(self, x, y):\n",
        "    super().__init__([x,y])\n",
        "  \n",
        "  def compute(self, x_var, y_var):\n",
        "    self.inputs = [x_var, y_var]\n",
        "    return x_var * y_var"
      ],
      "execution_count": 0,
      "outputs": []
    },
    {
      "metadata": {
        "id": "OFAKMGVkXwX_",
        "colab_type": "code",
        "colab": {}
      },
      "cell_type": "code",
      "source": [
        "class matmul(Operation):\n",
        "  \n",
        "  def __init__(self, x, y):\n",
        "    super().__init__([x,y])\n",
        "  \n",
        "  def compute(self, x_var, y_var):\n",
        "    self.inputs = [x_var, y_var]\n",
        "    return x_var.dot(y_var)"
      ],
      "execution_count": 0,
      "outputs": []
    },
    {
      "metadata": {
        "id": "WPVbd2DzYiED",
        "colab_type": "code",
        "colab": {}
      },
      "cell_type": "code",
      "source": [
        ""
      ],
      "execution_count": 0,
      "outputs": []
    }
  ]
}